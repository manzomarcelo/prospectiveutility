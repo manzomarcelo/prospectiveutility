{
 "cells": [
  {
   "cell_type": "markdown",
   "metadata": {},
   "source": [
    "![title](Prospect_utility.png)"
   ]
  },
  {
   "cell_type": "markdown",
   "metadata": {},
   "source": [
    "![title](Prospect_utility2.png)"
   ]
  },
  {
   "cell_type": "code",
   "execution_count": 1,
   "metadata": {},
   "outputs": [],
   "source": [
    "import pickle\n",
    "import pandas as pd\n",
    "import numpy as np\n",
    "import matplotlib.pyplot as plt\n",
    "from datetime import date, timedelta\n",
    "from datetime import datetime\n",
    "from tqdm import tqdm\n",
    "from dateutil.relativedelta import relativedelta\n",
    "import statsmodels.api as sm"
   ]
  },
  {
   "cell_type": "code",
   "execution_count": 2,
   "metadata": {},
   "outputs": [],
   "source": [
    "df=pd.read_csv(\"eb889d9be7128497.csv\")"
   ]
  },
  {
   "cell_type": "code",
   "execution_count": 3,
   "metadata": {},
   "outputs": [
    {
     "data": {
      "text/html": [
       "<div>\n",
       "<style scoped>\n",
       "    .dataframe tbody tr th:only-of-type {\n",
       "        vertical-align: middle;\n",
       "    }\n",
       "\n",
       "    .dataframe tbody tr th {\n",
       "        vertical-align: top;\n",
       "    }\n",
       "\n",
       "    .dataframe thead th {\n",
       "        text-align: right;\n",
       "    }\n",
       "</style>\n",
       "<table border=\"1\" class=\"dataframe\">\n",
       "  <thead>\n",
       "    <tr style=\"text-align: right;\">\n",
       "      <th></th>\n",
       "      <th>PERMNO</th>\n",
       "      <th>date</th>\n",
       "      <th>PRC</th>\n",
       "      <th>RET</th>\n",
       "      <th>SHROUT</th>\n",
       "    </tr>\n",
       "  </thead>\n",
       "  <tbody>\n",
       "    <tr>\n",
       "      <th>0</th>\n",
       "      <td>10000</td>\n",
       "      <td>19851231</td>\n",
       "      <td>NaN</td>\n",
       "      <td>NaN</td>\n",
       "      <td>NaN</td>\n",
       "    </tr>\n",
       "    <tr>\n",
       "      <th>1</th>\n",
       "      <td>10000</td>\n",
       "      <td>19860131</td>\n",
       "      <td>-4.3750</td>\n",
       "      <td>C</td>\n",
       "      <td>3680.0</td>\n",
       "    </tr>\n",
       "    <tr>\n",
       "      <th>2</th>\n",
       "      <td>10000</td>\n",
       "      <td>19860228</td>\n",
       "      <td>-3.2500</td>\n",
       "      <td>-0.257143</td>\n",
       "      <td>3680.0</td>\n",
       "    </tr>\n",
       "    <tr>\n",
       "      <th>3</th>\n",
       "      <td>10000</td>\n",
       "      <td>19860331</td>\n",
       "      <td>-4.4375</td>\n",
       "      <td>0.365385</td>\n",
       "      <td>3680.0</td>\n",
       "    </tr>\n",
       "    <tr>\n",
       "      <th>4</th>\n",
       "      <td>10000</td>\n",
       "      <td>19860430</td>\n",
       "      <td>-4.0000</td>\n",
       "      <td>-0.098592</td>\n",
       "      <td>3793.0</td>\n",
       "    </tr>\n",
       "  </tbody>\n",
       "</table>\n",
       "</div>"
      ],
      "text/plain": [
       "   PERMNO      date     PRC        RET  SHROUT\n",
       "0   10000  19851231     NaN        NaN     NaN\n",
       "1   10000  19860131 -4.3750          C  3680.0\n",
       "2   10000  19860228 -3.2500  -0.257143  3680.0\n",
       "3   10000  19860331 -4.4375   0.365385  3680.0\n",
       "4   10000  19860430 -4.0000  -0.098592  3793.0"
      ]
     },
     "execution_count": 3,
     "metadata": {},
     "output_type": "execute_result"
    }
   ],
   "source": [
    "df.head()"
   ]
  },
  {
   "cell_type": "code",
   "execution_count": 4,
   "metadata": {},
   "outputs": [],
   "source": [
    "df['PRC']=abs(df['PRC'])"
   ]
  },
  {
   "cell_type": "code",
   "execution_count": 5,
   "metadata": {},
   "outputs": [],
   "source": [
    "df.dropna(inplace=True)"
   ]
  },
  {
   "cell_type": "code",
   "execution_count": 6,
   "metadata": {},
   "outputs": [],
   "source": [
    "df = df[df.RET != 'C']"
   ]
  },
  {
   "cell_type": "code",
   "execution_count": 7,
   "metadata": {},
   "outputs": [
    {
     "data": {
      "text/plain": [
       "32107"
      ]
     },
     "execution_count": 7,
     "metadata": {},
     "output_type": "execute_result"
    }
   ],
   "source": [
    "df['PERMNO'].nunique()"
   ]
  },
  {
   "cell_type": "code",
   "execution_count": 8,
   "metadata": {},
   "outputs": [],
   "source": [
    "df['date'] = df['date'].astype(str)\n",
    "df['date'] = pd.to_datetime(df['date'],format='%Y-%m-%d')"
   ]
  },
  {
   "cell_type": "code",
   "execution_count": 9,
   "metadata": {},
   "outputs": [],
   "source": [
    "df.set_index(df.date, inplace=True)\n",
    "df.drop('date', axis=1, inplace=True)"
   ]
  },
  {
   "cell_type": "code",
   "execution_count": 10,
   "metadata": {},
   "outputs": [],
   "source": [
    "df=df.sort_index()"
   ]
  },
  {
   "cell_type": "code",
   "execution_count": 11,
   "metadata": {},
   "outputs": [
    {
     "name": "stderr",
     "output_type": "stream",
     "text": [
      "/Users/marcelo/anaconda3/lib/python3.6/site-packages/ipykernel_launcher.py:1: DeprecationWarning: The default dtype for empty Series will be 'object' instead of 'float64' in a future version. Specify a dtype explicitly to silence this warning.\n",
      "  \"\"\"Entry point for launching an IPython kernel.\n"
     ]
    }
   ],
   "source": [
    "df['PU']= pd.Series()"
   ]
  },
  {
   "cell_type": "code",
   "execution_count": 12,
   "metadata": {},
   "outputs": [
    {
     "data": {
      "text/plain": [
       "PERMNO      int64\n",
       "PRC       float64\n",
       "RET        object\n",
       "SHROUT    float64\n",
       "PU        float64\n",
       "dtype: object"
      ]
     },
     "execution_count": 12,
     "metadata": {},
     "output_type": "execute_result"
    }
   ],
   "source": [
    "df.dtypes"
   ]
  },
  {
   "cell_type": "code",
   "execution_count": 13,
   "metadata": {},
   "outputs": [],
   "source": [
    "df['RET'] = pd.to_numeric(df.RET, errors='coerce')"
   ]
  },
  {
   "cell_type": "code",
   "execution_count": 14,
   "metadata": {},
   "outputs": [],
   "source": [
    "def prosp_utility(ret):\n",
    "    alpha=0.5\n",
    "    lambd=2.5\n",
    "    gamma=0.61\n",
    "    delta=0.69\n",
    "    if ret >=0:\n",
    "        return (ret**alpha)\n",
    "    else:\n",
    "        return (-lambd*(-ret)**alpha)"
   ]
  },
  {
   "cell_type": "code",
   "execution_count": 15,
   "metadata": {},
   "outputs": [],
   "source": [
    "def w_P_pos(P):\n",
    "    gamma=0.61\n",
    "    return float((P**gamma)/(((P**gamma)+((1-P)**gamma))**(1/gamma)))\n",
    "\n",
    "    \n",
    "def w_P_neg(P): \n",
    "    delta=0.69\n",
    "    return float((P**delta)/(((P**delta)+((1-P)**delta))**(1/delta)))"
   ]
  },
  {
   "cell_type": "code",
   "execution_count": 16,
   "metadata": {},
   "outputs": [],
   "source": [
    "def pu_mod(full_permno_df):\n",
    "    \n",
    "    permno_id = full_permno_df.PERMNO.unique()[-1]\n",
    "    \n",
    "    if len(full_permno_df) <= 60:\n",
    "        return []\n",
    "    \n",
    "    results = []\n",
    "    for jump in range (60,len(full_permno_df)):\n",
    "        permno_df=full_permno_df[jump-60:jump]\n",
    "        list_final=permno_df.RET.sort_values()\n",
    "\n",
    "        m=len(permno_df.loc[permno_df['RET'] < 0])\n",
    "        n=60-m\n",
    "        pu=[]\n",
    "\n",
    "        for i in range(len(list_final)):\n",
    "            if i==0:\n",
    "                P_0=(1/60)\n",
    "                pu.append(prosp_utility(list_final[i])*w_P_neg(P_0))\n",
    "            elif i==59:\n",
    "                P_0=(1/60)    \n",
    "                pu.append(prosp_utility(list_final[i])*w_P_pos(P_0))\n",
    "            else:\n",
    "                if list_final[i]<0:\n",
    "                    P_1=(1/60)*(i+1)\n",
    "                    P_2=(1/60)*(i)\n",
    "                    Pi= w_P_neg(P_1) - w_P_neg(P_2)\n",
    "                    pu.append(prosp_utility(list_final[i])*Pi)\n",
    "                else:\n",
    "                    P_1=(1/60)*(60-i)\n",
    "                    P_2=(1/60)*(60-i-1)                   \n",
    "                    Pi= w_P_pos(P_1) - w_P_pos(P_2)\n",
    "                    pu.append(prosp_utility(list_final[i])*Pi)\n",
    "        results.append((permno_df.index[-1], permno_id, sum(pu)))\n",
    "    return results\n",
    "    \n",
    "#         df.loc[(df.index==permno_df.index[-1]) & (df.PERMNO == ele), ['PU']]=sum(pu)\n",
    "\n"
   ]
  },
  {
   "cell_type": "markdown",
   "metadata": {},
   "source": [
    "# Comment out lines below to generate pickle"
   ]
  },
  {
   "cell_type": "code",
   "execution_count": 17,
   "metadata": {},
   "outputs": [],
   "source": [
    "#grps = df.groupby('PERMNO')"
   ]
  },
  {
   "cell_type": "code",
   "execution_count": 18,
   "metadata": {},
   "outputs": [],
   "source": [
    "#grps = [x[1] for x in grps]"
   ]
  },
  {
   "cell_type": "code",
   "execution_count": 19,
   "metadata": {},
   "outputs": [],
   "source": [
    "# import multiprocessing as mp\n",
    "\n",
    "# with mp.Pool(mp.cpu_count()-1) as pool:\n",
    "#     pool_result = pool.map(pu_mod, grps)"
   ]
  },
  {
   "cell_type": "code",
   "execution_count": 20,
   "metadata": {},
   "outputs": [],
   "source": [
    "# import pickle\n",
    "\n",
    "# with open('pool_results.pickle', 'wb') as f:\n",
    "#     pickle.dump(pool_result, f)"
   ]
  },
  {
   "cell_type": "markdown",
   "metadata": {},
   "source": [
    "# Analysis"
   ]
  },
  {
   "cell_type": "code",
   "execution_count": 21,
   "metadata": {},
   "outputs": [],
   "source": [
    "with open('pool_results.pickle', 'rb') as f:\n",
    "    mynewlist = pickle.load(f)"
   ]
  },
  {
   "cell_type": "code",
   "execution_count": 22,
   "metadata": {},
   "outputs": [],
   "source": [
    "df=pd.read_csv(\"eb889d9be7128497.csv\")"
   ]
  },
  {
   "cell_type": "code",
   "execution_count": 23,
   "metadata": {},
   "outputs": [],
   "source": [
    "df['PRC']=abs(df['PRC'])"
   ]
  },
  {
   "cell_type": "code",
   "execution_count": 24,
   "metadata": {},
   "outputs": [],
   "source": [
    "df.dropna(inplace=True)"
   ]
  },
  {
   "cell_type": "code",
   "execution_count": 25,
   "metadata": {},
   "outputs": [],
   "source": [
    "df = df[df.RET != 'C']"
   ]
  },
  {
   "cell_type": "code",
   "execution_count": 26,
   "metadata": {},
   "outputs": [],
   "source": [
    "df['date'] = df['date'].astype(str)\n",
    "df['date'] = pd.to_datetime(df['date'],format='%Y-%m-%d')"
   ]
  },
  {
   "cell_type": "code",
   "execution_count": 27,
   "metadata": {},
   "outputs": [],
   "source": [
    "df.set_index(df.date, inplace=True)\n",
    "df.drop('date', axis=1, inplace=True)"
   ]
  },
  {
   "cell_type": "code",
   "execution_count": 28,
   "metadata": {},
   "outputs": [],
   "source": [
    "df=df.sort_index()"
   ]
  },
  {
   "cell_type": "code",
   "execution_count": 29,
   "metadata": {},
   "outputs": [
    {
     "name": "stderr",
     "output_type": "stream",
     "text": [
      "/Users/marcelo/anaconda3/lib/python3.6/site-packages/ipykernel_launcher.py:1: DeprecationWarning: The default dtype for empty Series will be 'object' instead of 'float64' in a future version. Specify a dtype explicitly to silence this warning.\n",
      "  \"\"\"Entry point for launching an IPython kernel.\n"
     ]
    }
   ],
   "source": [
    "df['PU']= pd.Series()"
   ]
  },
  {
   "cell_type": "code",
   "execution_count": 30,
   "metadata": {},
   "outputs": [],
   "source": [
    "df['RET'] = pd.to_numeric(df.RET, errors='coerce')"
   ]
  },
  {
   "cell_type": "code",
   "execution_count": 31,
   "metadata": {},
   "outputs": [],
   "source": [
    "for i in range(len(mynewlist)):\n",
    "    for j in range(len(mynewlist[i])):\n",
    "        mynewlist[i][j]=(mynewlist[i][j][0].strftime('%Y-%m-%d'), mynewlist[i][j][1], mynewlist[i][j][2])\n",
    "    "
   ]
  },
  {
   "cell_type": "code",
   "execution_count": 32,
   "metadata": {},
   "outputs": [],
   "source": [
    "new_data = [y for x in mynewlist for y in x if len(x) > 0]"
   ]
  },
  {
   "cell_type": "code",
   "execution_count": 33,
   "metadata": {},
   "outputs": [],
   "source": [
    "new_df = pd.DataFrame(new_data, columns=['time', 'permno', 'pu'])"
   ]
  },
  {
   "cell_type": "code",
   "execution_count": 34,
   "metadata": {},
   "outputs": [
    {
     "data": {
      "text/plain": [
       "2402002"
      ]
     },
     "execution_count": 34,
     "metadata": {},
     "output_type": "execute_result"
    }
   ],
   "source": [
    "len(new_df)"
   ]
  },
  {
   "cell_type": "code",
   "execution_count": 35,
   "metadata": {},
   "outputs": [
    {
     "data": {
      "text/plain": [
       "2398278"
      ]
     },
     "execution_count": 35,
     "metadata": {},
     "output_type": "execute_result"
    }
   ],
   "source": [
    "len(new_df.loc[new_df.pu < 0])"
   ]
  },
  {
   "cell_type": "code",
   "execution_count": 36,
   "metadata": {},
   "outputs": [],
   "source": [
    "df['time'] = pd.to_datetime(df.index)\n",
    "new_df['time'] = pd.to_datetime(new_df['time'])"
   ]
  },
  {
   "cell_type": "code",
   "execution_count": 37,
   "metadata": {},
   "outputs": [
    {
     "data": {
      "text/plain": [
       "Index(['PERMNO', 'PRC', 'RET', 'SHROUT', 'PU', 'time'], dtype='object')"
      ]
     },
     "execution_count": 37,
     "metadata": {},
     "output_type": "execute_result"
    }
   ],
   "source": [
    "df.columns"
   ]
  },
  {
   "cell_type": "code",
   "execution_count": 38,
   "metadata": {},
   "outputs": [],
   "source": [
    "final_df = df.merge(new_df, left_on=['time', 'PERMNO'], right_on=['time', 'permno'], how='left')"
   ]
  },
  {
   "cell_type": "code",
   "execution_count": 39,
   "metadata": {},
   "outputs": [
    {
     "data": {
      "text/plain": [
       "0.39219351408771286"
      ]
     },
     "execution_count": 39,
     "metadata": {},
     "output_type": "execute_result"
    }
   ],
   "source": [
    "np.mean(np.isnan(final_df.pu))"
   ]
  },
  {
   "cell_type": "code",
   "execution_count": 40,
   "metadata": {},
   "outputs": [],
   "source": [
    "final_df.drop(['PU','permno'],axis=1,inplace=True)"
   ]
  },
  {
   "cell_type": "code",
   "execution_count": 41,
   "metadata": {},
   "outputs": [
    {
     "data": {
      "text/html": [
       "<div>\n",
       "<style scoped>\n",
       "    .dataframe tbody tr th:only-of-type {\n",
       "        vertical-align: middle;\n",
       "    }\n",
       "\n",
       "    .dataframe tbody tr th {\n",
       "        vertical-align: top;\n",
       "    }\n",
       "\n",
       "    .dataframe thead th {\n",
       "        text-align: right;\n",
       "    }\n",
       "</style>\n",
       "<table border=\"1\" class=\"dataframe\">\n",
       "  <thead>\n",
       "    <tr style=\"text-align: right;\">\n",
       "      <th></th>\n",
       "      <th>PERMNO</th>\n",
       "      <th>PRC</th>\n",
       "      <th>RET</th>\n",
       "      <th>SHROUT</th>\n",
       "      <th>time</th>\n",
       "      <th>pu</th>\n",
       "    </tr>\n",
       "  </thead>\n",
       "  <tbody>\n",
       "    <tr>\n",
       "      <th>92536</th>\n",
       "      <td>17777</td>\n",
       "      <td>32.250</td>\n",
       "      <td>0.092437</td>\n",
       "      <td>1221.0</td>\n",
       "      <td>1964-12-31</td>\n",
       "      <td>-0.169802</td>\n",
       "    </tr>\n",
       "    <tr>\n",
       "      <th>92539</th>\n",
       "      <td>15915</td>\n",
       "      <td>16.125</td>\n",
       "      <td>-0.029630</td>\n",
       "      <td>2763.0</td>\n",
       "      <td>1964-12-31</td>\n",
       "      <td>-0.191615</td>\n",
       "    </tr>\n",
       "    <tr>\n",
       "      <th>92540</th>\n",
       "      <td>14816</td>\n",
       "      <td>12.500</td>\n",
       "      <td>0.049167</td>\n",
       "      <td>1586.0</td>\n",
       "      <td>1964-12-31</td>\n",
       "      <td>-0.144576</td>\n",
       "    </tr>\n",
       "    <tr>\n",
       "      <th>92541</th>\n",
       "      <td>17822</td>\n",
       "      <td>29.000</td>\n",
       "      <td>-0.016807</td>\n",
       "      <td>1697.0</td>\n",
       "      <td>1964-12-31</td>\n",
       "      <td>-0.177619</td>\n",
       "    </tr>\n",
       "    <tr>\n",
       "      <th>92545</th>\n",
       "      <td>21282</td>\n",
       "      <td>13.750</td>\n",
       "      <td>-0.009009</td>\n",
       "      <td>1508.0</td>\n",
       "      <td>1964-12-31</td>\n",
       "      <td>-0.188159</td>\n",
       "    </tr>\n",
       "  </tbody>\n",
       "</table>\n",
       "</div>"
      ],
      "text/plain": [
       "       PERMNO     PRC       RET  SHROUT       time        pu\n",
       "92536   17777  32.250  0.092437  1221.0 1964-12-31 -0.169802\n",
       "92539   15915  16.125 -0.029630  2763.0 1964-12-31 -0.191615\n",
       "92540   14816  12.500  0.049167  1586.0 1964-12-31 -0.144576\n",
       "92541   17822  29.000 -0.016807  1697.0 1964-12-31 -0.177619\n",
       "92545   21282  13.750 -0.009009  1508.0 1964-12-31 -0.188159"
      ]
     },
     "execution_count": 41,
     "metadata": {},
     "output_type": "execute_result"
    }
   ],
   "source": [
    "final_df=final_df.dropna()\n",
    "final_df.head()"
   ]
  },
  {
   "cell_type": "code",
   "execution_count": 42,
   "metadata": {},
   "outputs": [],
   "source": [
    "final_df=final_df.sort_values(['time', 'pu'], ascending=[True, True])"
   ]
  },
  {
   "cell_type": "code",
   "execution_count": 43,
   "metadata": {},
   "outputs": [],
   "source": [
    "final_df['RET']=round(final_df['RET'],4)\n",
    "final_df['pu']=round(final_df['pu'],4)\n"
   ]
  },
  {
   "cell_type": "code",
   "execution_count": 44,
   "metadata": {},
   "outputs": [],
   "source": [
    "new_array=np.array(final_df['time'].unique())"
   ]
  },
  {
   "cell_type": "code",
   "execution_count": 45,
   "metadata": {},
   "outputs": [
    {
     "data": {
      "text/plain": [
       "array([-0.292  , -0.20414, -0.18338, -0.1657 , -0.15052, -0.1364 ,\n",
       "       -0.12224, -0.10858, -0.09534, -0.079  , -0.0373 ])"
      ]
     },
     "execution_count": 45,
     "metadata": {},
     "output_type": "execute_result"
    }
   ],
   "source": [
    "df_temp=final_df[final_df['time']==new_array[0]]\n",
    "x=pd.qcut(df_temp['pu'],10,retbins=True)\n",
    "array_bins=np.array(list(x[1]))\n",
    "array_bins"
   ]
  },
  {
   "cell_type": "code",
   "execution_count": 46,
   "metadata": {},
   "outputs": [],
   "source": [
    "list_portfolios=['P1','P2','P3','P4','P5','P6','P7','P8','P9','P10']\n",
    "d={}\n",
    "for name in list_portfolios:\n",
    "    d[name] = pd.DataFrame()"
   ]
  },
  {
   "cell_type": "code",
   "execution_count": 47,
   "metadata": {},
   "outputs": [],
   "source": [
    "j=0\n",
    "for name in d.keys():\n",
    "        d[name]=df_temp[(df_temp.pu > array_bins[j]) & (df_temp.pu <= array_bins[j+1])]\n",
    "        j+=1"
   ]
  },
  {
   "cell_type": "code",
   "execution_count": 48,
   "metadata": {},
   "outputs": [],
   "source": [
    "for ele in list_portfolios:\n",
    "    d[ele]=pd.DataFrame(d[ele])"
   ]
  },
  {
   "cell_type": "code",
   "execution_count": 49,
   "metadata": {},
   "outputs": [
    {
     "name": "stderr",
     "output_type": "stream",
     "text": [
      "100%|██████████| 640/640 [01:22<00:00,  4.67it/s]\n"
     ]
    }
   ],
   "source": [
    "for i in tqdm(range(1,len(new_array)-1)):\n",
    "    df_temp=final_df[final_df['time']==new_array[i]]\n",
    "    x=pd.qcut(df_temp['pu'],10,retbins=True)\n",
    "    array_bins=np.array(list(x[1]))\n",
    "    portfolio={}\n",
    "    for name in list_portfolios:\n",
    "        portfolio[name] = pd.DataFrame()\n",
    "        j=0\n",
    "    for name in portfolio.keys():\n",
    "        portfolio[name]=df_temp[(df_temp.pu > array_bins[j]) & (df_temp.pu <= array_bins[j+1])]\n",
    "        d[name]=pd.concat([d[name],portfolio[name]])\n",
    "        j+=1\n",
    "        "
   ]
  },
  {
   "cell_type": "markdown",
   "metadata": {},
   "source": [
    "# 1) "
   ]
  },
  {
   "cell_type": "code",
   "execution_count": 50,
   "metadata": {},
   "outputs": [],
   "source": [
    "def avg_mkt_cap(name):\n",
    "    list_mkt_cap=[]\n",
    "    for name in list_portfolios:\n",
    "        d[name]= d[name][(d[name].SHROUT != 0 ) & (d[name].PRC != 0 )]\n",
    "        list_mkt_cap.append(np.mean(np.log(d[name].PRC*d[name].SHROUT)))\n",
    "    return list_mkt_cap"
   ]
  },
  {
   "cell_type": "code",
   "execution_count": 51,
   "metadata": {},
   "outputs": [],
   "source": [
    "avg_mkt=avg_mkt_cap(list_portfolios)"
   ]
  },
  {
   "cell_type": "code",
   "execution_count": 52,
   "metadata": {},
   "outputs": [
    {
     "data": {
      "text/plain": [
       "[9.944366191149944,\n",
       " 10.781329659556597,\n",
       " 11.325922582028861,\n",
       " 11.774475554480663,\n",
       " 12.156451694682763,\n",
       " 12.505609341589125,\n",
       " 12.743027945524355,\n",
       " 12.908290297879544,\n",
       " 12.993808645233539,\n",
       " 12.831078459241446]"
      ]
     },
     "execution_count": 52,
     "metadata": {},
     "output_type": "execute_result"
    }
   ],
   "source": [
    "avg_mkt"
   ]
  },
  {
   "cell_type": "code",
   "execution_count": 53,
   "metadata": {},
   "outputs": [],
   "source": [
    "def avg_return_t_1(name):\n",
    "    mean_t_1=[]   \n",
    "    for name in list_portfolios:\n",
    "        array=[]\n",
    "        for i in tqdm(range(len(d[name])-1)):\n",
    "            pu123=d[name].pu.iloc[i:i+1]\n",
    "            permno123=d[name].PERMNO.iloc[i:i+1]\n",
    "            df_p1=final_df[(final_df['PERMNO']==int(permno123))]\n",
    "            df_p1=df_p1.reset_index(drop=True)\n",
    "            index_p1=df_p1.index[df_p1['pu'] == float(pu123)].tolist()\n",
    "            new_index_p1=index_p1[0]+1\n",
    "            try:\n",
    "                array.append(df_p1[(df_p1.index==new_index_p1)].RET.values[0])\n",
    "            except:\n",
    "                continue\n",
    "\n",
    "        d[name] = d[name][:-1]\n",
    "        mean_t_1.append(np.mean(array))\n",
    "    return mean_t_1"
   ]
  },
  {
   "cell_type": "markdown",
   "metadata": {},
   "source": [
    "# Comment out lines below to calculate avg_returns at t+1"
   ]
  },
  {
   "cell_type": "code",
   "execution_count": 54,
   "metadata": {},
   "outputs": [],
   "source": [
    "# avg_returns=avg_return_t_1(list_portfolios)"
   ]
  },
  {
   "cell_type": "code",
   "execution_count": 55,
   "metadata": {},
   "outputs": [],
   "source": [
    "# avg_returns"
   ]
  },
  {
   "cell_type": "code",
   "execution_count": 56,
   "metadata": {},
   "outputs": [],
   "source": [
    "#avg_returns.to_csv(\"\")"
   ]
  },
  {
   "cell_type": "markdown",
   "metadata": {},
   "source": [
    "# Create dataset to append findings"
   ]
  },
  {
   "cell_type": "code",
   "execution_count": 57,
   "metadata": {},
   "outputs": [],
   "source": [
    "df_summary=pd.read_csv(\"avg_returns.csv\")"
   ]
  },
  {
   "cell_type": "code",
   "execution_count": 58,
   "metadata": {},
   "outputs": [],
   "source": [
    "df_summary.rename(columns={'Unnamed: 0': 'Portfolio'},inplace=True)"
   ]
  },
  {
   "cell_type": "code",
   "execution_count": 59,
   "metadata": {},
   "outputs": [],
   "source": [
    "df_summary['Average Log Market Cap']=avg_mkt"
   ]
  },
  {
   "cell_type": "code",
   "execution_count": 60,
   "metadata": {},
   "outputs": [
    {
     "data": {
      "text/html": [
       "<div>\n",
       "<style scoped>\n",
       "    .dataframe tbody tr th:only-of-type {\n",
       "        vertical-align: middle;\n",
       "    }\n",
       "\n",
       "    .dataframe tbody tr th {\n",
       "        vertical-align: top;\n",
       "    }\n",
       "\n",
       "    .dataframe thead th {\n",
       "        text-align: right;\n",
       "    }\n",
       "</style>\n",
       "<table border=\"1\" class=\"dataframe\">\n",
       "  <thead>\n",
       "    <tr style=\"text-align: right;\">\n",
       "      <th></th>\n",
       "      <th>Portfolio</th>\n",
       "      <th>Average Return t+1</th>\n",
       "      <th>Average Log Market Cap</th>\n",
       "    </tr>\n",
       "  </thead>\n",
       "  <tbody>\n",
       "    <tr>\n",
       "      <th>0</th>\n",
       "      <td>P1</td>\n",
       "      <td>0.021637</td>\n",
       "      <td>9.944366</td>\n",
       "    </tr>\n",
       "    <tr>\n",
       "      <th>1</th>\n",
       "      <td>P2</td>\n",
       "      <td>0.013365</td>\n",
       "      <td>10.781330</td>\n",
       "    </tr>\n",
       "    <tr>\n",
       "      <th>2</th>\n",
       "      <td>P3</td>\n",
       "      <td>0.012085</td>\n",
       "      <td>11.325923</td>\n",
       "    </tr>\n",
       "    <tr>\n",
       "      <th>3</th>\n",
       "      <td>P4</td>\n",
       "      <td>0.012615</td>\n",
       "      <td>11.774476</td>\n",
       "    </tr>\n",
       "    <tr>\n",
       "      <th>4</th>\n",
       "      <td>P5</td>\n",
       "      <td>0.012440</td>\n",
       "      <td>12.156452</td>\n",
       "    </tr>\n",
       "    <tr>\n",
       "      <th>5</th>\n",
       "      <td>P6</td>\n",
       "      <td>0.012823</td>\n",
       "      <td>12.505609</td>\n",
       "    </tr>\n",
       "    <tr>\n",
       "      <th>6</th>\n",
       "      <td>P7</td>\n",
       "      <td>0.012177</td>\n",
       "      <td>12.743028</td>\n",
       "    </tr>\n",
       "    <tr>\n",
       "      <th>7</th>\n",
       "      <td>P8</td>\n",
       "      <td>0.012493</td>\n",
       "      <td>12.908290</td>\n",
       "    </tr>\n",
       "    <tr>\n",
       "      <th>8</th>\n",
       "      <td>P9</td>\n",
       "      <td>0.011913</td>\n",
       "      <td>12.993809</td>\n",
       "    </tr>\n",
       "    <tr>\n",
       "      <th>9</th>\n",
       "      <td>P10</td>\n",
       "      <td>0.009998</td>\n",
       "      <td>12.831078</td>\n",
       "    </tr>\n",
       "  </tbody>\n",
       "</table>\n",
       "</div>"
      ],
      "text/plain": [
       "  Portfolio  Average Return t+1  Average Log Market Cap\n",
       "0        P1            0.021637                9.944366\n",
       "1        P2            0.013365               10.781330\n",
       "2        P3            0.012085               11.325923\n",
       "3        P4            0.012615               11.774476\n",
       "4        P5            0.012440               12.156452\n",
       "5        P6            0.012823               12.505609\n",
       "6        P7            0.012177               12.743028\n",
       "7        P8            0.012493               12.908290\n",
       "8        P9            0.011913               12.993809\n",
       "9       P10            0.009998               12.831078"
      ]
     },
     "execution_count": 60,
     "metadata": {},
     "output_type": "execute_result"
    }
   ],
   "source": [
    "df_summary"
   ]
  },
  {
   "cell_type": "code",
   "execution_count": 61,
   "metadata": {},
   "outputs": [],
   "source": [
    "market_df=pd.read_csv(\"rm_rf.CSV\",index_col=0)"
   ]
  },
  {
   "cell_type": "code",
   "execution_count": 62,
   "metadata": {},
   "outputs": [],
   "source": [
    "market_df=market_df.loc['196412':'201804']"
   ]
  },
  {
   "cell_type": "code",
   "execution_count": 63,
   "metadata": {},
   "outputs": [
    {
     "data": {
      "text/html": [
       "<div>\n",
       "<style scoped>\n",
       "    .dataframe tbody tr th:only-of-type {\n",
       "        vertical-align: middle;\n",
       "    }\n",
       "\n",
       "    .dataframe tbody tr th {\n",
       "        vertical-align: top;\n",
       "    }\n",
       "\n",
       "    .dataframe thead th {\n",
       "        text-align: right;\n",
       "    }\n",
       "</style>\n",
       "<table border=\"1\" class=\"dataframe\">\n",
       "  <thead>\n",
       "    <tr style=\"text-align: right;\">\n",
       "      <th></th>\n",
       "      <th>rm_rf</th>\n",
       "      <th>rf</th>\n",
       "    </tr>\n",
       "  </thead>\n",
       "  <tbody>\n",
       "    <tr>\n",
       "      <th>196412</th>\n",
       "      <td>0.0003</td>\n",
       "      <td>0.0031</td>\n",
       "    </tr>\n",
       "    <tr>\n",
       "      <th>196501</th>\n",
       "      <td>0.0354</td>\n",
       "      <td>0.0028</td>\n",
       "    </tr>\n",
       "    <tr>\n",
       "      <th>196502</th>\n",
       "      <td>0.0044</td>\n",
       "      <td>0.0030</td>\n",
       "    </tr>\n",
       "    <tr>\n",
       "      <th>196503</th>\n",
       "      <td>-0.0134</td>\n",
       "      <td>0.0036</td>\n",
       "    </tr>\n",
       "    <tr>\n",
       "      <th>196504</th>\n",
       "      <td>0.0311</td>\n",
       "      <td>0.0031</td>\n",
       "    </tr>\n",
       "  </tbody>\n",
       "</table>\n",
       "</div>"
      ],
      "text/plain": [
       "         rm_rf      rf\n",
       "196412  0.0003  0.0031\n",
       "196501  0.0354  0.0028\n",
       "196502  0.0044  0.0030\n",
       "196503 -0.0134  0.0036\n",
       "196504  0.0311  0.0031"
      ]
     },
     "execution_count": 63,
     "metadata": {},
     "output_type": "execute_result"
    }
   ],
   "source": [
    "market_df.head()"
   ]
  },
  {
   "cell_type": "code",
   "execution_count": 64,
   "metadata": {},
   "outputs": [],
   "source": [
    "def capm(name):\n",
    "    d_portfolio=d[name].groupby('time').mean()\n",
    "    d_portfolio['rm_rf']=market_df['rm_rf'].values\n",
    "    d_portfolio['rf']=market_df['rf'].values\n",
    "    d_portfolio['RET']=d_portfolio['RET']-d_portfolio['rf']\n",
    "    Y=d_portfolio['RET']\n",
    "    X=d_portfolio['rm_rf']\n",
    "    X_standard = sm.add_constant(X)\n",
    "    model = sm.OLS(Y,X_standard)\n",
    "    results = model.fit()\n",
    "    print(results.summary())\n",
    "    return results.params"
   ]
  },
  {
   "cell_type": "code",
   "execution_count": 65,
   "metadata": {
    "scrolled": false
   },
   "outputs": [
    {
     "name": "stdout",
     "output_type": "stream",
     "text": [
      "                            OLS Regression Results                            \n",
      "==============================================================================\n",
      "Dep. Variable:                    RET   R-squared:                       0.440\n",
      "Model:                            OLS   Adj. R-squared:                  0.439\n",
      "Method:                 Least Squares   F-statistic:                     501.2\n",
      "Date:                Tue, 05 May 2020   Prob (F-statistic):           2.16e-82\n",
      "Time:                        11:48:36   Log-Likelihood:                 811.36\n",
      "No. Observations:                 641   AIC:                            -1619.\n",
      "Df Residuals:                     639   BIC:                            -1610.\n",
      "Df Model:                           1                                         \n",
      "Covariance Type:            nonrobust                                         \n",
      "==============================================================================\n",
      "                 coef    std err          t      P>|t|      [0.025      0.975]\n",
      "------------------------------------------------------------------------------\n",
      "const         -0.0212      0.003     -7.790      0.000      -0.027      -0.016\n",
      "rm_rf          1.3645      0.061     22.387      0.000       1.245       1.484\n",
      "==============================================================================\n",
      "Omnibus:                      219.848   Durbin-Watson:                   1.893\n",
      "Prob(Omnibus):                  0.000   Jarque-Bera (JB):             1407.527\n",
      "Skew:                           1.374   Prob(JB):                    2.29e-306\n",
      "Kurtosis:                       9.719   Cond. No.                         22.6\n",
      "==============================================================================\n",
      "\n",
      "Warnings:\n",
      "[1] Standard Errors assume that the covariance matrix of the errors is correctly specified.\n",
      "                            OLS Regression Results                            \n",
      "==============================================================================\n",
      "Dep. Variable:                    RET   R-squared:                       0.576\n",
      "Model:                            OLS   Adj. R-squared:                  0.576\n",
      "Method:                 Least Squares   F-statistic:                     869.7\n",
      "Date:                Tue, 05 May 2020   Prob (F-statistic):          2.57e-121\n",
      "Time:                        11:48:36   Log-Likelihood:                 1009.7\n",
      "No. Observations:                 641   AIC:                            -2015.\n",
      "Df Residuals:                     639   BIC:                            -2006.\n",
      "Df Model:                           1                                         \n",
      "Covariance Type:            nonrobust                                         \n",
      "==============================================================================\n",
      "                 coef    std err          t      P>|t|      [0.025      0.975]\n",
      "------------------------------------------------------------------------------\n",
      "const         -0.0029      0.002     -1.471      0.142      -0.007       0.001\n",
      "rm_rf          1.3192      0.045     29.491      0.000       1.231       1.407\n",
      "==============================================================================\n",
      "Omnibus:                      266.374   Durbin-Watson:                   1.901\n",
      "Prob(Omnibus):                  0.000   Jarque-Bera (JB):             2381.090\n",
      "Skew:                           1.606   Prob(JB):                         0.00\n",
      "Kurtosis:                      11.879   Cond. No.                         22.6\n",
      "==============================================================================\n",
      "\n",
      "Warnings:\n",
      "[1] Standard Errors assume that the covariance matrix of the errors is correctly specified.\n",
      "                            OLS Regression Results                            \n",
      "==============================================================================\n",
      "Dep. Variable:                    RET   R-squared:                       0.662\n",
      "Model:                            OLS   Adj. R-squared:                  0.662\n",
      "Method:                 Least Squares   F-statistic:                     1252.\n",
      "Date:                Tue, 05 May 2020   Prob (F-statistic):          1.02e-152\n",
      "Time:                        11:48:36   Log-Likelihood:                 1161.6\n",
      "No. Observations:                 641   AIC:                            -2319.\n",
      "Df Residuals:                     639   BIC:                            -2310.\n",
      "Df Model:                           1                                         \n",
      "Covariance Type:            nonrobust                                         \n",
      "==============================================================================\n",
      "                 coef    std err          t      P>|t|      [0.025      0.975]\n",
      "------------------------------------------------------------------------------\n",
      "const          0.0013      0.002      0.826      0.409      -0.002       0.004\n",
      "rm_rf          1.2491      0.035     35.390      0.000       1.180       1.318\n",
      "==============================================================================\n",
      "Omnibus:                      191.065   Durbin-Watson:                   1.897\n",
      "Prob(Omnibus):                  0.000   Jarque-Bera (JB):             1011.315\n",
      "Skew:                           1.228   Prob(JB):                    2.49e-220\n",
      "Kurtosis:                       8.642   Cond. No.                         22.6\n",
      "==============================================================================\n",
      "\n",
      "Warnings:\n",
      "[1] Standard Errors assume that the covariance matrix of the errors is correctly specified.\n",
      "                            OLS Regression Results                            \n",
      "==============================================================================\n",
      "Dep. Variable:                    RET   R-squared:                       0.738\n",
      "Model:                            OLS   Adj. R-squared:                  0.738\n",
      "Method:                 Least Squares   F-statistic:                     1800.\n",
      "Date:                Tue, 05 May 2020   Prob (F-statistic):          5.04e-188\n",
      "Time:                        11:48:36   Log-Likelihood:                 1314.2\n",
      "No. Observations:                 641   AIC:                            -2624.\n",
      "Df Residuals:                     639   BIC:                            -2615.\n",
      "Df Model:                           1                                         \n",
      "Covariance Type:            nonrobust                                         \n",
      "==============================================================================\n",
      "                 coef    std err          t      P>|t|      [0.025      0.975]\n",
      "------------------------------------------------------------------------------\n",
      "const          0.0035      0.001      2.840      0.005       0.001       0.006\n",
      "rm_rf          1.1801      0.028     42.428      0.000       1.126       1.235\n",
      "==============================================================================\n",
      "Omnibus:                      119.867   Durbin-Watson:                   1.828\n",
      "Prob(Omnibus):                  0.000   Jarque-Bera (JB):              452.706\n",
      "Skew:                           0.824   Prob(JB):                     4.97e-99\n",
      "Kurtosis:                       6.773   Cond. No.                         22.6\n",
      "==============================================================================\n",
      "\n",
      "Warnings:\n",
      "[1] Standard Errors assume that the covariance matrix of the errors is correctly specified.\n",
      "                            OLS Regression Results                            \n",
      "==============================================================================\n",
      "Dep. Variable:                    RET   R-squared:                       0.779\n",
      "Model:                            OLS   Adj. R-squared:                  0.779\n",
      "Method:                 Least Squares   F-statistic:                     2258.\n",
      "Date:                Tue, 05 May 2020   Prob (F-statistic):          6.45e-212\n",
      "Time:                        11:48:36   Log-Likelihood:                 1421.6\n",
      "No. Observations:                 641   AIC:                            -2839.\n",
      "Df Residuals:                     639   BIC:                            -2830.\n",
      "Df Model:                           1                                         \n",
      "Covariance Type:            nonrobust                                         \n",
      "==============================================================================\n",
      "                 coef    std err          t      P>|t|      [0.025      0.975]\n",
      "------------------------------------------------------------------------------\n",
      "const          0.0055      0.001      5.271      0.000       0.003       0.008\n",
      "rm_rf          1.1178      0.024     47.520      0.000       1.072       1.164\n",
      "==============================================================================\n",
      "Omnibus:                      125.727   Durbin-Watson:                   1.788\n",
      "Prob(Omnibus):                  0.000   Jarque-Bera (JB):              488.377\n",
      "Skew:                           0.858   Prob(JB):                    8.92e-107\n",
      "Kurtosis:                       6.917   Cond. No.                         22.6\n",
      "==============================================================================\n",
      "\n",
      "Warnings:\n",
      "[1] Standard Errors assume that the covariance matrix of the errors is correctly specified.\n",
      "                            OLS Regression Results                            \n",
      "==============================================================================\n",
      "Dep. Variable:                    RET   R-squared:                       0.809\n",
      "Model:                            OLS   Adj. R-squared:                  0.809\n",
      "Method:                 Least Squares   F-statistic:                     2705.\n",
      "Date:                Tue, 05 May 2020   Prob (F-statistic):          8.29e-232\n",
      "Time:                        11:48:37   Log-Likelihood:                 1529.5\n",
      "No. Observations:                 641   AIC:                            -3055.\n",
      "Df Residuals:                     639   BIC:                            -3046.\n",
      "Df Model:                           1                                         \n",
      "Covariance Type:            nonrobust                                         \n",
      "==============================================================================\n",
      "                 coef    std err          t      P>|t|      [0.025      0.975]\n",
      "------------------------------------------------------------------------------\n",
      "const          0.0061      0.001      6.899      0.000       0.004       0.008\n",
      "rm_rf          1.0339      0.020     52.005      0.000       0.995       1.073\n",
      "==============================================================================\n",
      "Omnibus:                      119.283   Durbin-Watson:                   1.751\n",
      "Prob(Omnibus):                  0.000   Jarque-Bera (JB):              465.873\n",
      "Skew:                           0.809   Prob(JB):                    6.87e-102\n",
      "Kurtosis:                       6.850   Cond. No.                         22.6\n",
      "==============================================================================\n",
      "\n",
      "Warnings:\n",
      "[1] Standard Errors assume that the covariance matrix of the errors is correctly specified.\n",
      "                            OLS Regression Results                            \n",
      "==============================================================================\n",
      "Dep. Variable:                    RET   R-squared:                       0.840\n",
      "Model:                            OLS   Adj. R-squared:                  0.840\n",
      "Method:                 Least Squares   F-statistic:                     3361.\n",
      "Date:                Tue, 05 May 2020   Prob (F-statistic):          1.06e-256\n",
      "Time:                        11:48:37   Log-Likelihood:                 1647.1\n",
      "No. Observations:                 641   AIC:                            -3290.\n",
      "Df Residuals:                     639   BIC:                            -3281.\n",
      "Df Model:                           1                                         \n",
      "Covariance Type:            nonrobust                                         \n",
      "==============================================================================\n",
      "                 coef    std err          t      P>|t|      [0.025      0.975]\n",
      "------------------------------------------------------------------------------\n",
      "const          0.0070      0.001      9.522      0.000       0.006       0.008\n",
      "rm_rf          0.9594      0.017     57.977      0.000       0.927       0.992\n",
      "==============================================================================\n",
      "Omnibus:                       88.633   Durbin-Watson:                   1.792\n",
      "Prob(Omnibus):                  0.000   Jarque-Bera (JB):              275.244\n",
      "Skew:                           0.654   Prob(JB):                     1.70e-60\n",
      "Kurtosis:                       5.931   Cond. No.                         22.6\n",
      "==============================================================================\n",
      "\n",
      "Warnings:\n",
      "[1] Standard Errors assume that the covariance matrix of the errors is correctly specified.\n",
      "                            OLS Regression Results                            \n",
      "==============================================================================\n",
      "Dep. Variable:                    RET   R-squared:                       0.838\n",
      "Model:                            OLS   Adj. R-squared:                  0.838\n",
      "Method:                 Least Squares   F-statistic:                     3316.\n",
      "Date:                Tue, 05 May 2020   Prob (F-statistic):          4.01e-255\n",
      "Time:                        11:48:37   Log-Likelihood:                 1710.3\n",
      "No. Observations:                 641   AIC:                            -3417.\n",
      "Df Residuals:                     639   BIC:                            -3408.\n",
      "Df Model:                           1                                         \n",
      "Covariance Type:            nonrobust                                         \n",
      "==============================================================================\n",
      "                 coef    std err          t      P>|t|      [0.025      0.975]\n",
      "------------------------------------------------------------------------------\n",
      "const          0.0087      0.001     12.997      0.000       0.007       0.010\n",
      "rm_rf          0.8634      0.015     57.585      0.000       0.834       0.893\n",
      "==============================================================================\n",
      "Omnibus:                       95.025   Durbin-Watson:                   1.678\n",
      "Prob(Omnibus):                  0.000   Jarque-Bera (JB):              266.669\n",
      "Skew:                           0.735   Prob(JB):                     1.24e-58\n",
      "Kurtosis:                       5.797   Cond. No.                         22.6\n",
      "==============================================================================\n",
      "\n",
      "Warnings:\n",
      "[1] Standard Errors assume that the covariance matrix of the errors is correctly specified.\n",
      "                            OLS Regression Results                            \n",
      "==============================================================================\n",
      "Dep. Variable:                    RET   R-squared:                       0.814\n",
      "Model:                            OLS   Adj. R-squared:                  0.814\n",
      "Method:                 Least Squares   F-statistic:                     2805.\n",
      "Date:                Tue, 05 May 2020   Prob (F-statistic):          6.26e-236\n",
      "Time:                        11:48:37   Log-Likelihood:                 1750.9\n",
      "No. Observations:                 641   AIC:                            -3498.\n",
      "Df Residuals:                     639   BIC:                            -3489.\n",
      "Df Model:                           1                                         \n",
      "Covariance Type:            nonrobust                                         \n",
      "==============================================================================\n",
      "                 coef    std err          t      P>|t|      [0.025      0.975]\n",
      "------------------------------------------------------------------------------\n",
      "const          0.0102      0.001     16.280      0.000       0.009       0.011\n",
      "rm_rf          0.7454      0.014     52.965      0.000       0.718       0.773\n",
      "==============================================================================\n",
      "Omnibus:                       63.397   Durbin-Watson:                   1.634\n",
      "Prob(Omnibus):                  0.000   Jarque-Bera (JB):              194.372\n",
      "Skew:                           0.455   Prob(JB):                     6.20e-43\n",
      "Kurtosis:                       5.539   Cond. No.                         22.6\n",
      "==============================================================================\n",
      "\n",
      "Warnings:\n",
      "[1] Standard Errors assume that the covariance matrix of the errors is correctly specified.\n",
      "                            OLS Regression Results                            \n",
      "==============================================================================\n",
      "Dep. Variable:                    RET   R-squared:                       0.673\n",
      "Model:                            OLS   Adj. R-squared:                  0.672\n",
      "Method:                 Least Squares   F-statistic:                     1314.\n",
      "Date:                Tue, 05 May 2020   Prob (F-statistic):          3.57e-157\n",
      "Time:                        11:48:37   Log-Likelihood:                 1665.9\n",
      "No. Observations:                 641   AIC:                            -3328.\n",
      "Df Residuals:                     639   BIC:                            -3319.\n",
      "Df Model:                           1                                         \n",
      "Covariance Type:            nonrobust                                         \n",
      "==============================================================================\n",
      "                 coef    std err          t      P>|t|      [0.025      0.975]\n",
      "------------------------------------------------------------------------------\n",
      "const          0.0144      0.001     20.165      0.000       0.013       0.016\n",
      "rm_rf          0.5826      0.016     36.251      0.000       0.551       0.614\n",
      "==============================================================================\n",
      "Omnibus:                       39.548   Durbin-Watson:                   1.609\n",
      "Prob(Omnibus):                  0.000   Jarque-Bera (JB):              110.825\n",
      "Skew:                           0.256   Prob(JB):                     8.61e-25\n",
      "Kurtosis:                       4.972   Cond. No.                         22.6\n",
      "==============================================================================\n",
      "\n",
      "Warnings:\n",
      "[1] Standard Errors assume that the covariance matrix of the errors is correctly specified.\n"
     ]
    }
   ],
   "source": [
    "list_coeffs=[]\n",
    "for ele in list_portfolios:\n",
    "    list_coeffs.append(capm(ele))"
   ]
  },
  {
   "cell_type": "code",
   "execution_count": 66,
   "metadata": {},
   "outputs": [],
   "source": [
    "list_coeffs=pd.DataFrame(list_coeffs)"
   ]
  },
  {
   "cell_type": "code",
   "execution_count": 67,
   "metadata": {},
   "outputs": [],
   "source": [
    "list_coeffs.rename(columns={\"const\":\"CAPM alpha\",\"rm_rf\":\"beta\"},inplace=True)"
   ]
  },
  {
   "cell_type": "code",
   "execution_count": 68,
   "metadata": {},
   "outputs": [],
   "source": [
    "df_summary['CAPM alpha']=list_coeffs['CAPM alpha']\n",
    "df_summary['beta']=list_coeffs['beta']\n"
   ]
  },
  {
   "cell_type": "code",
   "execution_count": 69,
   "metadata": {},
   "outputs": [
    {
     "data": {
      "text/html": [
       "<div>\n",
       "<style scoped>\n",
       "    .dataframe tbody tr th:only-of-type {\n",
       "        vertical-align: middle;\n",
       "    }\n",
       "\n",
       "    .dataframe tbody tr th {\n",
       "        vertical-align: top;\n",
       "    }\n",
       "\n",
       "    .dataframe thead th {\n",
       "        text-align: right;\n",
       "    }\n",
       "</style>\n",
       "<table border=\"1\" class=\"dataframe\">\n",
       "  <thead>\n",
       "    <tr style=\"text-align: right;\">\n",
       "      <th></th>\n",
       "      <th>Portfolio</th>\n",
       "      <th>Average Return t+1</th>\n",
       "      <th>Average Log Market Cap</th>\n",
       "      <th>CAPM alpha</th>\n",
       "      <th>beta</th>\n",
       "    </tr>\n",
       "  </thead>\n",
       "  <tbody>\n",
       "    <tr>\n",
       "      <th>0</th>\n",
       "      <td>P1</td>\n",
       "      <td>0.021637</td>\n",
       "      <td>9.944366</td>\n",
       "      <td>-0.021170</td>\n",
       "      <td>1.364473</td>\n",
       "    </tr>\n",
       "    <tr>\n",
       "      <th>1</th>\n",
       "      <td>P2</td>\n",
       "      <td>0.013365</td>\n",
       "      <td>10.781330</td>\n",
       "      <td>-0.002934</td>\n",
       "      <td>1.319218</td>\n",
       "    </tr>\n",
       "    <tr>\n",
       "      <th>2</th>\n",
       "      <td>P3</td>\n",
       "      <td>0.012085</td>\n",
       "      <td>11.325923</td>\n",
       "      <td>0.001299</td>\n",
       "      <td>1.249083</td>\n",
       "    </tr>\n",
       "    <tr>\n",
       "      <th>3</th>\n",
       "      <td>P4</td>\n",
       "      <td>0.012615</td>\n",
       "      <td>11.774476</td>\n",
       "      <td>0.003522</td>\n",
       "      <td>1.180136</td>\n",
       "    </tr>\n",
       "    <tr>\n",
       "      <th>4</th>\n",
       "      <td>P5</td>\n",
       "      <td>0.012440</td>\n",
       "      <td>12.156452</td>\n",
       "      <td>0.005528</td>\n",
       "      <td>1.117843</td>\n",
       "    </tr>\n",
       "    <tr>\n",
       "      <th>5</th>\n",
       "      <td>P6</td>\n",
       "      <td>0.012823</td>\n",
       "      <td>12.505609</td>\n",
       "      <td>0.006116</td>\n",
       "      <td>1.033924</td>\n",
       "    </tr>\n",
       "    <tr>\n",
       "      <th>6</th>\n",
       "      <td>P7</td>\n",
       "      <td>0.012177</td>\n",
       "      <td>12.743028</td>\n",
       "      <td>0.007025</td>\n",
       "      <td>0.959389</td>\n",
       "    </tr>\n",
       "    <tr>\n",
       "      <th>7</th>\n",
       "      <td>P8</td>\n",
       "      <td>0.012493</td>\n",
       "      <td>12.908290</td>\n",
       "      <td>0.008689</td>\n",
       "      <td>0.863380</td>\n",
       "    </tr>\n",
       "    <tr>\n",
       "      <th>8</th>\n",
       "      <td>P9</td>\n",
       "      <td>0.011913</td>\n",
       "      <td>12.993809</td>\n",
       "      <td>0.010216</td>\n",
       "      <td>0.745411</td>\n",
       "    </tr>\n",
       "    <tr>\n",
       "      <th>9</th>\n",
       "      <td>P10</td>\n",
       "      <td>0.009998</td>\n",
       "      <td>12.831078</td>\n",
       "      <td>0.014449</td>\n",
       "      <td>0.582562</td>\n",
       "    </tr>\n",
       "  </tbody>\n",
       "</table>\n",
       "</div>"
      ],
      "text/plain": [
       "  Portfolio  Average Return t+1  Average Log Market Cap  CAPM alpha      beta\n",
       "0        P1            0.021637                9.944366   -0.021170  1.364473\n",
       "1        P2            0.013365               10.781330   -0.002934  1.319218\n",
       "2        P3            0.012085               11.325923    0.001299  1.249083\n",
       "3        P4            0.012615               11.774476    0.003522  1.180136\n",
       "4        P5            0.012440               12.156452    0.005528  1.117843\n",
       "5        P6            0.012823               12.505609    0.006116  1.033924\n",
       "6        P7            0.012177               12.743028    0.007025  0.959389\n",
       "7        P8            0.012493               12.908290    0.008689  0.863380\n",
       "8        P9            0.011913               12.993809    0.010216  0.745411\n",
       "9       P10            0.009998               12.831078    0.014449  0.582562"
      ]
     },
     "execution_count": 69,
     "metadata": {},
     "output_type": "execute_result"
    }
   ],
   "source": [
    "df_summary"
   ]
  },
  {
   "cell_type": "markdown",
   "metadata": {},
   "source": [
    "● Average log-market capitalization increases as we move from low prospective utility portfolios to high prospective utility portfolios.\n",
    "\n",
    "● Average returns follow the opposite direction, as they decrease as we move from low prospective utility portfolios to high prospective utility ones.\n",
    "\n",
    "● CAPM alphas are greater for high prospective utility portfolios than for low prospective utility ones. This shows that high prospective utility portfolios have a higher margin of overperformance compared to the market.\n",
    "\n",
    "● Betas are all positive and they are greater for low prospective utility portfolios compared to high prospective utility ones. This reveals that all of the portfolios move in the same direction of the market, but the lower the prospective utility of the overall portfolio, the more volatile it will be compared to the market as a whole."
   ]
  },
  {
   "cell_type": "markdown",
   "metadata": {},
   "source": [
    "# 2)"
   ]
  },
  {
   "cell_type": "code",
   "execution_count": 70,
   "metadata": {},
   "outputs": [],
   "source": [
    "d_long_short_portfolio=d['P1'].groupby('time').mean().RET-d['P10'].groupby('time').mean().RET"
   ]
  },
  {
   "cell_type": "code",
   "execution_count": 71,
   "metadata": {},
   "outputs": [],
   "source": [
    "d_long_short_portfolio=pd.DataFrame(d_long_short_portfolio)"
   ]
  },
  {
   "cell_type": "code",
   "execution_count": 72,
   "metadata": {},
   "outputs": [],
   "source": [
    "d_long_short_portfolio['rm_rf']=market_df['rm_rf'].values"
   ]
  },
  {
   "cell_type": "code",
   "execution_count": 73,
   "metadata": {},
   "outputs": [],
   "source": [
    "d_long_short_portfolio['rf']=market_df['rf'].values"
   ]
  },
  {
   "cell_type": "code",
   "execution_count": 74,
   "metadata": {},
   "outputs": [],
   "source": [
    "d_long_short_portfolio['RET-rf']=d_long_short_portfolio['RET']-d_long_short_portfolio['rf'].values"
   ]
  },
  {
   "cell_type": "code",
   "execution_count": 75,
   "metadata": {},
   "outputs": [
    {
     "data": {
      "text/html": [
       "<div>\n",
       "<style scoped>\n",
       "    .dataframe tbody tr th:only-of-type {\n",
       "        vertical-align: middle;\n",
       "    }\n",
       "\n",
       "    .dataframe tbody tr th {\n",
       "        vertical-align: top;\n",
       "    }\n",
       "\n",
       "    .dataframe thead th {\n",
       "        text-align: right;\n",
       "    }\n",
       "</style>\n",
       "<table border=\"1\" class=\"dataframe\">\n",
       "  <thead>\n",
       "    <tr style=\"text-align: right;\">\n",
       "      <th></th>\n",
       "      <th>RET</th>\n",
       "      <th>rm_rf</th>\n",
       "      <th>rf</th>\n",
       "      <th>RET-rf</th>\n",
       "    </tr>\n",
       "    <tr>\n",
       "      <th>time</th>\n",
       "      <th></th>\n",
       "      <th></th>\n",
       "      <th></th>\n",
       "      <th></th>\n",
       "    </tr>\n",
       "  </thead>\n",
       "  <tbody>\n",
       "    <tr>\n",
       "      <th>1964-12-31</th>\n",
       "      <td>-0.042961</td>\n",
       "      <td>0.0003</td>\n",
       "      <td>0.0031</td>\n",
       "      <td>-0.046061</td>\n",
       "    </tr>\n",
       "    <tr>\n",
       "      <th>1965-01-29</th>\n",
       "      <td>0.046913</td>\n",
       "      <td>0.0354</td>\n",
       "      <td>0.0028</td>\n",
       "      <td>0.044113</td>\n",
       "    </tr>\n",
       "    <tr>\n",
       "      <th>1965-02-26</th>\n",
       "      <td>-0.000735</td>\n",
       "      <td>0.0044</td>\n",
       "      <td>0.0030</td>\n",
       "      <td>-0.003735</td>\n",
       "    </tr>\n",
       "    <tr>\n",
       "      <th>1965-03-31</th>\n",
       "      <td>-0.008507</td>\n",
       "      <td>-0.0134</td>\n",
       "      <td>0.0036</td>\n",
       "      <td>-0.012107</td>\n",
       "    </tr>\n",
       "    <tr>\n",
       "      <th>1965-04-30</th>\n",
       "      <td>-0.001248</td>\n",
       "      <td>0.0311</td>\n",
       "      <td>0.0031</td>\n",
       "      <td>-0.004348</td>\n",
       "    </tr>\n",
       "  </tbody>\n",
       "</table>\n",
       "</div>"
      ],
      "text/plain": [
       "                 RET   rm_rf      rf    RET-rf\n",
       "time                                          \n",
       "1964-12-31 -0.042961  0.0003  0.0031 -0.046061\n",
       "1965-01-29  0.046913  0.0354  0.0028  0.044113\n",
       "1965-02-26 -0.000735  0.0044  0.0030 -0.003735\n",
       "1965-03-31 -0.008507 -0.0134  0.0036 -0.012107\n",
       "1965-04-30 -0.001248  0.0311  0.0031 -0.004348"
      ]
     },
     "execution_count": 75,
     "metadata": {},
     "output_type": "execute_result"
    }
   ],
   "source": [
    "d_long_short_portfolio.head()"
   ]
  },
  {
   "cell_type": "code",
   "execution_count": 76,
   "metadata": {},
   "outputs": [],
   "source": [
    "p1_excess_return=np.mean(d_long_short_portfolio['RET-rf'])"
   ]
  },
  {
   "cell_type": "code",
   "execution_count": 77,
   "metadata": {},
   "outputs": [
    {
     "name": "stdout",
     "output_type": "stream",
     "text": [
      "                            OLS Regression Results                            \n",
      "==============================================================================\n",
      "Dep. Variable:                 RET-rf   R-squared:                       0.210\n",
      "Model:                            OLS   Adj. R-squared:                  0.209\n",
      "Method:                 Least Squares   F-statistic:                     170.1\n",
      "Date:                Tue, 05 May 2020   Prob (F-statistic):           1.22e-34\n",
      "Time:                        11:48:37   Log-Likelihood:                 817.89\n",
      "No. Observations:                 641   AIC:                            -1632.\n",
      "Df Residuals:                     639   BIC:                            -1623.\n",
      "Df Model:                           1                                         \n",
      "Covariance Type:            nonrobust                                         \n",
      "==============================================================================\n",
      "                 coef    std err          t      P>|t|      [0.025      0.975]\n",
      "------------------------------------------------------------------------------\n",
      "const         -0.0395      0.003    -14.690      0.000      -0.045      -0.034\n",
      "rm_rf          0.7869      0.060     13.042      0.000       0.668       0.905\n",
      "==============================================================================\n",
      "Omnibus:                      158.590   Durbin-Watson:                   1.869\n",
      "Prob(Omnibus):                  0.000   Jarque-Bera (JB):              874.540\n",
      "Skew:                           0.981   Prob(JB):                    1.25e-190\n",
      "Kurtosis:                       8.375   Cond. No.                         22.6\n",
      "==============================================================================\n",
      "\n",
      "Warnings:\n",
      "[1] Standard Errors assume that the covariance matrix of the errors is correctly specified.\n"
     ]
    }
   ],
   "source": [
    "Y=d_long_short_portfolio['RET-rf']\n",
    "X=d_long_short_portfolio['rm_rf']\n",
    "X_standard = sm.add_constant(X)\n",
    "model = sm.OLS(Y,X_standard)\n",
    "results = model.fit()\n",
    "print(results.summary())"
   ]
  },
  {
   "cell_type": "code",
   "execution_count": 78,
   "metadata": {},
   "outputs": [
    {
     "name": "stdout",
     "output_type": "stream",
     "text": [
      "-1.445001145256369\n"
     ]
    }
   ],
   "source": [
    "sharpe_ratio = d_long_short_portfolio['RET'].mean() / d_long_short_portfolio['RET'].std()\n",
    "sharpe_ratio=sharpe_ratio*np.sqrt(12)\n",
    "print(sharpe_ratio)"
   ]
  },
  {
   "cell_type": "code",
   "execution_count": 79,
   "metadata": {},
   "outputs": [],
   "source": [
    "d = {'CAPM alpha': results.params[0], 'Sharpe Ratio': sharpe_ratio}"
   ]
  },
  {
   "cell_type": "code",
   "execution_count": 80,
   "metadata": {},
   "outputs": [],
   "source": [
    "d_sharpes=pd.DataFrame.from_dict(d,orient='index').T"
   ]
  },
  {
   "cell_type": "code",
   "execution_count": 81,
   "metadata": {},
   "outputs": [
    {
     "data": {
      "text/html": [
       "<div>\n",
       "<style scoped>\n",
       "    .dataframe tbody tr th:only-of-type {\n",
       "        vertical-align: middle;\n",
       "    }\n",
       "\n",
       "    .dataframe tbody tr th {\n",
       "        vertical-align: top;\n",
       "    }\n",
       "\n",
       "    .dataframe thead th {\n",
       "        text-align: right;\n",
       "    }\n",
       "</style>\n",
       "<table border=\"1\" class=\"dataframe\">\n",
       "  <thead>\n",
       "    <tr style=\"text-align: right;\">\n",
       "      <th></th>\n",
       "      <th>CAPM alpha</th>\n",
       "      <th>Sharpe Ratio</th>\n",
       "    </tr>\n",
       "  </thead>\n",
       "  <tbody>\n",
       "    <tr>\n",
       "      <th>0</th>\n",
       "      <td>-0.039519</td>\n",
       "      <td>-1.445001</td>\n",
       "    </tr>\n",
       "  </tbody>\n",
       "</table>\n",
       "</div>"
      ],
      "text/plain": [
       "   CAPM alpha  Sharpe Ratio\n",
       "0   -0.039519     -1.445001"
      ]
     },
     "execution_count": 81,
     "metadata": {},
     "output_type": "execute_result"
    }
   ],
   "source": [
    "d_sharpes"
   ]
  },
  {
   "cell_type": "markdown",
   "metadata": {},
   "source": [
    "# 3)"
   ]
  },
  {
   "cell_type": "code",
   "execution_count": 82,
   "metadata": {},
   "outputs": [],
   "source": [
    "with open('pool_results_Q3.pickle', 'rb') as f:\n",
    "    mynewlist = pickle.load(f)"
   ]
  },
  {
   "cell_type": "code",
   "execution_count": 83,
   "metadata": {},
   "outputs": [],
   "source": [
    "for i in range(len(mynewlist)):\n",
    "    for j in range(len(mynewlist[i])):\n",
    "        mynewlist[i][j]=(mynewlist[i][j][0].strftime('%Y-%m-%d'), mynewlist[i][j][1], mynewlist[i][j][2])\n",
    "    "
   ]
  },
  {
   "cell_type": "code",
   "execution_count": 84,
   "metadata": {},
   "outputs": [],
   "source": [
    "new_data = [y for x in mynewlist for y in x if len(x) > 0]"
   ]
  },
  {
   "cell_type": "code",
   "execution_count": 85,
   "metadata": {},
   "outputs": [],
   "source": [
    "new_df = pd.DataFrame(new_data, columns=['time', 'permno', 'pu'])"
   ]
  },
  {
   "cell_type": "code",
   "execution_count": 86,
   "metadata": {},
   "outputs": [
    {
     "data": {
      "text/plain": [
       "2402002"
      ]
     },
     "execution_count": 86,
     "metadata": {},
     "output_type": "execute_result"
    }
   ],
   "source": [
    "len(new_df)"
   ]
  },
  {
   "cell_type": "code",
   "execution_count": 87,
   "metadata": {},
   "outputs": [
    {
     "data": {
      "text/plain": [
       "2353697"
      ]
     },
     "execution_count": 87,
     "metadata": {},
     "output_type": "execute_result"
    }
   ],
   "source": [
    "len(new_df.loc[new_df.pu < 0])"
   ]
  },
  {
   "cell_type": "code",
   "execution_count": 88,
   "metadata": {},
   "outputs": [],
   "source": [
    "new_df['time'] = pd.to_datetime(new_df['time'])"
   ]
  },
  {
   "cell_type": "code",
   "execution_count": 89,
   "metadata": {},
   "outputs": [],
   "source": [
    "final_df = df.merge(new_df, left_on=['time', 'PERMNO'], right_on=['time', 'permno'], how='left')"
   ]
  },
  {
   "cell_type": "code",
   "execution_count": 90,
   "metadata": {},
   "outputs": [
    {
     "data": {
      "text/plain": [
       "0.39219351408771286"
      ]
     },
     "execution_count": 90,
     "metadata": {},
     "output_type": "execute_result"
    }
   ],
   "source": [
    "np.mean(np.isnan(final_df.pu))"
   ]
  },
  {
   "cell_type": "code",
   "execution_count": 91,
   "metadata": {},
   "outputs": [],
   "source": [
    "final_df.drop(['PU','permno'],axis=1,inplace=True)"
   ]
  },
  {
   "cell_type": "code",
   "execution_count": 92,
   "metadata": {},
   "outputs": [],
   "source": [
    "final_df=final_df.dropna()"
   ]
  },
  {
   "cell_type": "code",
   "execution_count": 93,
   "metadata": {},
   "outputs": [],
   "source": [
    "final_df=final_df.sort_values(['time', 'pu'], ascending=[True, True])"
   ]
  },
  {
   "cell_type": "code",
   "execution_count": 94,
   "metadata": {},
   "outputs": [],
   "source": [
    "final_df['RET']=round(final_df['RET'],4)\n",
    "final_df['pu']=round(final_df['pu'],4)\n"
   ]
  },
  {
   "cell_type": "code",
   "execution_count": 95,
   "metadata": {},
   "outputs": [],
   "source": [
    "new_array=np.array(final_df['time'].unique())"
   ]
  },
  {
   "cell_type": "code",
   "execution_count": 96,
   "metadata": {},
   "outputs": [
    {
     "data": {
      "text/plain": [
       "array([-0.3392 , -0.2137 , -0.18256, -0.15884, -0.13896, -0.1212 ,\n",
       "       -0.10144, -0.083  , -0.06558, -0.04512,  0.0129 ])"
      ]
     },
     "execution_count": 96,
     "metadata": {},
     "output_type": "execute_result"
    }
   ],
   "source": [
    "df_temp=final_df[final_df['time']==new_array[0]]\n",
    "x=pd.qcut(df_temp['pu'],10,retbins=True)\n",
    "array_bins=np.array(list(x[1]))\n",
    "array_bins"
   ]
  },
  {
   "cell_type": "code",
   "execution_count": 97,
   "metadata": {},
   "outputs": [],
   "source": [
    "list_portfolios=['P1','P2','P3','P4','P5','P6','P7','P8','P9','P10']\n",
    "d={}\n",
    "for name in list_portfolios:\n",
    "    d[name] = pd.DataFrame()"
   ]
  },
  {
   "cell_type": "code",
   "execution_count": 98,
   "metadata": {},
   "outputs": [],
   "source": [
    "j=0\n",
    "for name in d.keys():\n",
    "        d[name]=df_temp[(df_temp.pu > array_bins[j]) & (df_temp.pu <= array_bins[j+1])]\n",
    "        j+=1"
   ]
  },
  {
   "cell_type": "code",
   "execution_count": 99,
   "metadata": {},
   "outputs": [],
   "source": [
    "for ele in list_portfolios:\n",
    "    d[ele]=pd.DataFrame(d[ele])"
   ]
  },
  {
   "cell_type": "code",
   "execution_count": 100,
   "metadata": {},
   "outputs": [
    {
     "name": "stderr",
     "output_type": "stream",
     "text": [
      "100%|██████████| 640/640 [01:16<00:00,  5.07it/s]\n"
     ]
    }
   ],
   "source": [
    "for i in tqdm(range(1,len(new_array)-1)):\n",
    "    df_temp=final_df[final_df['time']==new_array[i]]\n",
    "    x=pd.qcut(df_temp['pu'],10,retbins=True)\n",
    "    array_bins=np.array(list(x[1]))\n",
    "    portfolio={}\n",
    "    for name in list_portfolios:\n",
    "        portfolio[name] = pd.DataFrame()\n",
    "        j=0\n",
    "    for name in portfolio.keys():\n",
    "        portfolio[name]=df_temp[(df_temp.pu > array_bins[j]) & (df_temp.pu <= array_bins[j+1])]\n",
    "        d[name]=pd.concat([d[name],portfolio[name]])\n",
    "        j+=1\n",
    "        "
   ]
  },
  {
   "cell_type": "code",
   "execution_count": 101,
   "metadata": {},
   "outputs": [],
   "source": [
    "d_long_short_portfolio=d['P1'].groupby('time').mean().RET-d['P10'].groupby('time').mean().RET"
   ]
  },
  {
   "cell_type": "code",
   "execution_count": 102,
   "metadata": {},
   "outputs": [],
   "source": [
    "d_long_short_portfolio=pd.DataFrame(d_long_short_portfolio)"
   ]
  },
  {
   "cell_type": "code",
   "execution_count": 103,
   "metadata": {},
   "outputs": [],
   "source": [
    "d_long_short_portfolio['rm_rf']=market_df['rm_rf'].values"
   ]
  },
  {
   "cell_type": "code",
   "execution_count": 104,
   "metadata": {},
   "outputs": [],
   "source": [
    "d_long_short_portfolio['rf']=market_df['rf'].values"
   ]
  },
  {
   "cell_type": "code",
   "execution_count": 105,
   "metadata": {},
   "outputs": [],
   "source": [
    "d_long_short_portfolio['RET-rf']=d_long_short_portfolio['RET']-d_long_short_portfolio['rf'].values"
   ]
  },
  {
   "cell_type": "code",
   "execution_count": 106,
   "metadata": {},
   "outputs": [
    {
     "data": {
      "text/html": [
       "<div>\n",
       "<style scoped>\n",
       "    .dataframe tbody tr th:only-of-type {\n",
       "        vertical-align: middle;\n",
       "    }\n",
       "\n",
       "    .dataframe tbody tr th {\n",
       "        vertical-align: top;\n",
       "    }\n",
       "\n",
       "    .dataframe thead th {\n",
       "        text-align: right;\n",
       "    }\n",
       "</style>\n",
       "<table border=\"1\" class=\"dataframe\">\n",
       "  <thead>\n",
       "    <tr style=\"text-align: right;\">\n",
       "      <th></th>\n",
       "      <th>RET</th>\n",
       "      <th>rm_rf</th>\n",
       "      <th>rf</th>\n",
       "      <th>RET-rf</th>\n",
       "    </tr>\n",
       "    <tr>\n",
       "      <th>time</th>\n",
       "      <th></th>\n",
       "      <th></th>\n",
       "      <th></th>\n",
       "      <th></th>\n",
       "    </tr>\n",
       "  </thead>\n",
       "  <tbody>\n",
       "    <tr>\n",
       "      <th>1964-12-31</th>\n",
       "      <td>-0.040760</td>\n",
       "      <td>0.0003</td>\n",
       "      <td>0.0031</td>\n",
       "      <td>-0.043860</td>\n",
       "    </tr>\n",
       "    <tr>\n",
       "      <th>1965-01-29</th>\n",
       "      <td>0.054972</td>\n",
       "      <td>0.0354</td>\n",
       "      <td>0.0028</td>\n",
       "      <td>0.052172</td>\n",
       "    </tr>\n",
       "    <tr>\n",
       "      <th>1965-02-26</th>\n",
       "      <td>0.004858</td>\n",
       "      <td>0.0044</td>\n",
       "      <td>0.0030</td>\n",
       "      <td>0.001858</td>\n",
       "    </tr>\n",
       "    <tr>\n",
       "      <th>1965-03-31</th>\n",
       "      <td>0.000064</td>\n",
       "      <td>-0.0134</td>\n",
       "      <td>0.0036</td>\n",
       "      <td>-0.003536</td>\n",
       "    </tr>\n",
       "    <tr>\n",
       "      <th>1965-04-30</th>\n",
       "      <td>-0.008414</td>\n",
       "      <td>0.0311</td>\n",
       "      <td>0.0031</td>\n",
       "      <td>-0.011514</td>\n",
       "    </tr>\n",
       "  </tbody>\n",
       "</table>\n",
       "</div>"
      ],
      "text/plain": [
       "                 RET   rm_rf      rf    RET-rf\n",
       "time                                          \n",
       "1964-12-31 -0.040760  0.0003  0.0031 -0.043860\n",
       "1965-01-29  0.054972  0.0354  0.0028  0.052172\n",
       "1965-02-26  0.004858  0.0044  0.0030  0.001858\n",
       "1965-03-31  0.000064 -0.0134  0.0036 -0.003536\n",
       "1965-04-30 -0.008414  0.0311  0.0031 -0.011514"
      ]
     },
     "execution_count": 106,
     "metadata": {},
     "output_type": "execute_result"
    }
   ],
   "source": [
    "d_long_short_portfolio.head()"
   ]
  },
  {
   "cell_type": "code",
   "execution_count": 107,
   "metadata": {
    "scrolled": true
   },
   "outputs": [
    {
     "name": "stdout",
     "output_type": "stream",
     "text": [
      "                            OLS Regression Results                            \n",
      "==============================================================================\n",
      "Dep. Variable:                 RET-rf   R-squared:                       0.139\n",
      "Model:                            OLS   Adj. R-squared:                  0.137\n",
      "Method:                 Least Squares   F-statistic:                     102.9\n",
      "Date:                Tue, 05 May 2020   Prob (F-statistic):           1.61e-22\n",
      "Time:                        11:50:38   Log-Likelihood:                 769.88\n",
      "No. Observations:                 641   AIC:                            -1536.\n",
      "Df Residuals:                     639   BIC:                            -1527.\n",
      "Df Model:                           1                                         \n",
      "Covariance Type:            nonrobust                                         \n",
      "==============================================================================\n",
      "                 coef    std err          t      P>|t|      [0.025      0.975]\n",
      "------------------------------------------------------------------------------\n",
      "const         -0.0333      0.003    -11.478      0.000      -0.039      -0.028\n",
      "rm_rf          0.6596      0.065     10.144      0.000       0.532       0.787\n",
      "==============================================================================\n",
      "Omnibus:                      259.454   Durbin-Watson:                   1.898\n",
      "Prob(Omnibus):                  0.000   Jarque-Bera (JB):             2116.966\n",
      "Skew:                           1.586   Prob(JB):                         0.00\n",
      "Kurtosis:                      11.319   Cond. No.                         22.6\n",
      "==============================================================================\n",
      "\n",
      "Warnings:\n",
      "[1] Standard Errors assume that the covariance matrix of the errors is correctly specified.\n"
     ]
    }
   ],
   "source": [
    "Y=d_long_short_portfolio['RET-rf']\n",
    "X=d_long_short_portfolio['rm_rf']\n",
    "X_standard = sm.add_constant(X)\n",
    "model = sm.OLS(Y,X_standard)\n",
    "results = model.fit()\n",
    "print(results.summary())"
   ]
  },
  {
   "cell_type": "code",
   "execution_count": 108,
   "metadata": {},
   "outputs": [
    {
     "name": "stdout",
     "output_type": "stream",
     "text": [
      "-1.1523975272097984\n"
     ]
    }
   ],
   "source": [
    "sharpe_ratio = d_long_short_portfolio['RET'].mean() / d_long_short_portfolio['RET'].std()\n",
    "sharpe_ratio=sharpe_ratio*np.sqrt(12)\n",
    "print(sharpe_ratio)"
   ]
  },
  {
   "cell_type": "code",
   "execution_count": 109,
   "metadata": {},
   "outputs": [],
   "source": [
    "d = {'CAPM alpha': results.params[0], 'Sharpe Ratio': sharpe_ratio}"
   ]
  },
  {
   "cell_type": "code",
   "execution_count": 110,
   "metadata": {},
   "outputs": [],
   "source": [
    "d=pd.DataFrame.from_dict(d,orient='index').T"
   ]
  },
  {
   "cell_type": "code",
   "execution_count": 111,
   "metadata": {},
   "outputs": [],
   "source": [
    "d_sharpes=pd.concat([d_sharpes,d])"
   ]
  },
  {
   "cell_type": "code",
   "execution_count": 112,
   "metadata": {},
   "outputs": [
    {
     "data": {
      "text/html": [
       "<div>\n",
       "<style scoped>\n",
       "    .dataframe tbody tr th:only-of-type {\n",
       "        vertical-align: middle;\n",
       "    }\n",
       "\n",
       "    .dataframe tbody tr th {\n",
       "        vertical-align: top;\n",
       "    }\n",
       "\n",
       "    .dataframe thead th {\n",
       "        text-align: right;\n",
       "    }\n",
       "</style>\n",
       "<table border=\"1\" class=\"dataframe\">\n",
       "  <thead>\n",
       "    <tr style=\"text-align: right;\">\n",
       "      <th></th>\n",
       "      <th>CAPM alpha</th>\n",
       "      <th>Sharpe Ratio</th>\n",
       "    </tr>\n",
       "  </thead>\n",
       "  <tbody>\n",
       "    <tr>\n",
       "      <th>0</th>\n",
       "      <td>-0.039519</td>\n",
       "      <td>-1.445001</td>\n",
       "    </tr>\n",
       "    <tr>\n",
       "      <th>0</th>\n",
       "      <td>-0.033279</td>\n",
       "      <td>-1.152398</td>\n",
       "    </tr>\n",
       "  </tbody>\n",
       "</table>\n",
       "</div>"
      ],
      "text/plain": [
       "   CAPM alpha  Sharpe Ratio\n",
       "0   -0.039519     -1.445001\n",
       "0   -0.033279     -1.152398"
      ]
     },
     "execution_count": 112,
     "metadata": {},
     "output_type": "execute_result"
    }
   ],
   "source": [
    "d_sharpes"
   ]
  },
  {
   "cell_type": "code",
   "execution_count": 113,
   "metadata": {},
   "outputs": [],
   "source": [
    "p2_excess_return=np.mean(d_long_short_portfolio['RET-rf'])"
   ]
  },
  {
   "cell_type": "markdown",
   "metadata": {},
   "source": [
    "# 4)"
   ]
  },
  {
   "cell_type": "code",
   "execution_count": 114,
   "metadata": {},
   "outputs": [],
   "source": [
    "with open('pool_results_Q4.pickle', 'rb') as f:\n",
    "    mynewlist = pickle.load(f)"
   ]
  },
  {
   "cell_type": "code",
   "execution_count": 115,
   "metadata": {},
   "outputs": [],
   "source": [
    "for i in range(len(mynewlist)):\n",
    "    for j in range(len(mynewlist[i])):\n",
    "        mynewlist[i][j]=(mynewlist[i][j][0].strftime('%Y-%m-%d'), mynewlist[i][j][1], mynewlist[i][j][2])\n",
    "    "
   ]
  },
  {
   "cell_type": "code",
   "execution_count": 116,
   "metadata": {},
   "outputs": [],
   "source": [
    "new_data = [y for x in mynewlist for y in x if len(x) > 0]"
   ]
  },
  {
   "cell_type": "code",
   "execution_count": 117,
   "metadata": {},
   "outputs": [],
   "source": [
    "new_df = pd.DataFrame(new_data, columns=['time', 'permno', 'pu'])"
   ]
  },
  {
   "cell_type": "code",
   "execution_count": 118,
   "metadata": {},
   "outputs": [
    {
     "data": {
      "text/plain": [
       "2402002"
      ]
     },
     "execution_count": 118,
     "metadata": {},
     "output_type": "execute_result"
    }
   ],
   "source": [
    "len(new_df)"
   ]
  },
  {
   "cell_type": "code",
   "execution_count": 119,
   "metadata": {},
   "outputs": [
    {
     "data": {
      "text/plain": [
       "2288274"
      ]
     },
     "execution_count": 119,
     "metadata": {},
     "output_type": "execute_result"
    }
   ],
   "source": [
    "len(new_df.loc[new_df.pu < 0])"
   ]
  },
  {
   "cell_type": "code",
   "execution_count": 120,
   "metadata": {},
   "outputs": [],
   "source": [
    "new_df['time'] = pd.to_datetime(new_df['time'])"
   ]
  },
  {
   "cell_type": "code",
   "execution_count": 121,
   "metadata": {},
   "outputs": [],
   "source": [
    "final_df = df.merge(new_df, left_on=['time', 'PERMNO'], right_on=['time', 'permno'], how='left')"
   ]
  },
  {
   "cell_type": "code",
   "execution_count": 122,
   "metadata": {},
   "outputs": [
    {
     "data": {
      "text/plain": [
       "0.39219351408771286"
      ]
     },
     "execution_count": 122,
     "metadata": {},
     "output_type": "execute_result"
    }
   ],
   "source": [
    "np.mean(np.isnan(final_df.pu))"
   ]
  },
  {
   "cell_type": "code",
   "execution_count": 123,
   "metadata": {},
   "outputs": [],
   "source": [
    "final_df.drop(['PU','permno'],axis=1,inplace=True)"
   ]
  },
  {
   "cell_type": "code",
   "execution_count": 124,
   "metadata": {},
   "outputs": [],
   "source": [
    "final_df=final_df.dropna()"
   ]
  },
  {
   "cell_type": "code",
   "execution_count": 125,
   "metadata": {},
   "outputs": [],
   "source": [
    "final_df=final_df.sort_values(['time', 'pu'], ascending=[True, True])"
   ]
  },
  {
   "cell_type": "code",
   "execution_count": 126,
   "metadata": {},
   "outputs": [],
   "source": [
    "final_df['RET']=round(final_df['RET'],4)\n",
    "final_df['pu']=round(final_df['pu'],4)\n"
   ]
  },
  {
   "cell_type": "code",
   "execution_count": 127,
   "metadata": {},
   "outputs": [],
   "source": [
    "new_array=np.array(final_df['time'].unique())"
   ]
  },
  {
   "cell_type": "code",
   "execution_count": 128,
   "metadata": {},
   "outputs": [
    {
     "data": {
      "text/plain": [
       "array([-0.0988 , -0.05664, -0.04678, -0.04014, -0.03412, -0.0288 ,\n",
       "       -0.02474, -0.0208 , -0.01702, -0.01146,  0.0311 ])"
      ]
     },
     "execution_count": 128,
     "metadata": {},
     "output_type": "execute_result"
    }
   ],
   "source": [
    "df_temp=final_df[final_df['time']==new_array[0]]\n",
    "x=pd.qcut(df_temp['pu'],10,retbins=True)\n",
    "array_bins=np.array(list(x[1]))\n",
    "array_bins"
   ]
  },
  {
   "cell_type": "code",
   "execution_count": 129,
   "metadata": {},
   "outputs": [],
   "source": [
    "list_portfolios=['P1','P2','P3','P4','P5','P6','P7','P8','P9','P10']\n",
    "d={}\n",
    "for name in list_portfolios:\n",
    "    d[name] = pd.DataFrame()"
   ]
  },
  {
   "cell_type": "code",
   "execution_count": 130,
   "metadata": {},
   "outputs": [],
   "source": [
    "j=0\n",
    "for name in d.keys():\n",
    "        d[name]=df_temp[(df_temp.pu > array_bins[j]) & (df_temp.pu <= array_bins[j+1])]\n",
    "        j+=1"
   ]
  },
  {
   "cell_type": "code",
   "execution_count": 131,
   "metadata": {},
   "outputs": [],
   "source": [
    "for ele in list_portfolios:\n",
    "    d[ele]=pd.DataFrame(d[ele])"
   ]
  },
  {
   "cell_type": "code",
   "execution_count": 132,
   "metadata": {},
   "outputs": [
    {
     "name": "stderr",
     "output_type": "stream",
     "text": [
      "100%|██████████| 640/640 [01:18<00:00,  5.47it/s]\n"
     ]
    }
   ],
   "source": [
    "for i in tqdm(range(1,len(new_array)-1)):\n",
    "    df_temp=final_df[final_df['time']==new_array[i]]\n",
    "    x=pd.qcut(df_temp['pu'],10,retbins=True)\n",
    "    array_bins=np.array(list(x[1]))\n",
    "    portfolio={}\n",
    "    for name in list_portfolios:\n",
    "        portfolio[name] = pd.DataFrame()\n",
    "        j=0\n",
    "    for name in portfolio.keys():\n",
    "        portfolio[name]=df_temp[(df_temp.pu > array_bins[j]) & (df_temp.pu <= array_bins[j+1])]\n",
    "        d[name]=pd.concat([d[name],portfolio[name]])\n",
    "        j+=1\n",
    "        "
   ]
  },
  {
   "cell_type": "code",
   "execution_count": 133,
   "metadata": {},
   "outputs": [],
   "source": [
    "d_long_short_portfolio=d['P1'].groupby('time').mean().RET-d['P10'].groupby('time').mean().RET"
   ]
  },
  {
   "cell_type": "code",
   "execution_count": 134,
   "metadata": {},
   "outputs": [],
   "source": [
    "d_long_short_portfolio=pd.DataFrame(d_long_short_portfolio)"
   ]
  },
  {
   "cell_type": "code",
   "execution_count": 135,
   "metadata": {},
   "outputs": [],
   "source": [
    "d_long_short_portfolio['rm_rf']=market_df['rm_rf'].values"
   ]
  },
  {
   "cell_type": "code",
   "execution_count": 136,
   "metadata": {},
   "outputs": [],
   "source": [
    "d_long_short_portfolio['rf']=market_df['rf'].values"
   ]
  },
  {
   "cell_type": "code",
   "execution_count": 137,
   "metadata": {},
   "outputs": [],
   "source": [
    "d_long_short_portfolio['RET-rf']=d_long_short_portfolio['RET']-d_long_short_portfolio['rf'].values"
   ]
  },
  {
   "cell_type": "code",
   "execution_count": 138,
   "metadata": {},
   "outputs": [
    {
     "data": {
      "text/html": [
       "<div>\n",
       "<style scoped>\n",
       "    .dataframe tbody tr th:only-of-type {\n",
       "        vertical-align: middle;\n",
       "    }\n",
       "\n",
       "    .dataframe tbody tr th {\n",
       "        vertical-align: top;\n",
       "    }\n",
       "\n",
       "    .dataframe thead th {\n",
       "        text-align: right;\n",
       "    }\n",
       "</style>\n",
       "<table border=\"1\" class=\"dataframe\">\n",
       "  <thead>\n",
       "    <tr style=\"text-align: right;\">\n",
       "      <th></th>\n",
       "      <th>RET</th>\n",
       "      <th>rm_rf</th>\n",
       "      <th>rf</th>\n",
       "      <th>RET-rf</th>\n",
       "    </tr>\n",
       "    <tr>\n",
       "      <th>time</th>\n",
       "      <th></th>\n",
       "      <th></th>\n",
       "      <th></th>\n",
       "      <th></th>\n",
       "    </tr>\n",
       "  </thead>\n",
       "  <tbody>\n",
       "    <tr>\n",
       "      <th>1964-12-31</th>\n",
       "      <td>-0.028869</td>\n",
       "      <td>0.0003</td>\n",
       "      <td>0.0031</td>\n",
       "      <td>-0.031969</td>\n",
       "    </tr>\n",
       "    <tr>\n",
       "      <th>1965-01-29</th>\n",
       "      <td>0.005318</td>\n",
       "      <td>0.0354</td>\n",
       "      <td>0.0028</td>\n",
       "      <td>0.002518</td>\n",
       "    </tr>\n",
       "    <tr>\n",
       "      <th>1965-02-26</th>\n",
       "      <td>0.007180</td>\n",
       "      <td>0.0044</td>\n",
       "      <td>0.0030</td>\n",
       "      <td>0.004180</td>\n",
       "    </tr>\n",
       "    <tr>\n",
       "      <th>1965-03-31</th>\n",
       "      <td>-0.026981</td>\n",
       "      <td>-0.0134</td>\n",
       "      <td>0.0036</td>\n",
       "      <td>-0.030581</td>\n",
       "    </tr>\n",
       "    <tr>\n",
       "      <th>1965-04-30</th>\n",
       "      <td>-0.002226</td>\n",
       "      <td>0.0311</td>\n",
       "      <td>0.0031</td>\n",
       "      <td>-0.005326</td>\n",
       "    </tr>\n",
       "  </tbody>\n",
       "</table>\n",
       "</div>"
      ],
      "text/plain": [
       "                 RET   rm_rf      rf    RET-rf\n",
       "time                                          \n",
       "1964-12-31 -0.028869  0.0003  0.0031 -0.031969\n",
       "1965-01-29  0.005318  0.0354  0.0028  0.002518\n",
       "1965-02-26  0.007180  0.0044  0.0030  0.004180\n",
       "1965-03-31 -0.026981 -0.0134  0.0036 -0.030581\n",
       "1965-04-30 -0.002226  0.0311  0.0031 -0.005326"
      ]
     },
     "execution_count": 138,
     "metadata": {},
     "output_type": "execute_result"
    }
   ],
   "source": [
    "d_long_short_portfolio.head()"
   ]
  },
  {
   "cell_type": "code",
   "execution_count": 139,
   "metadata": {
    "scrolled": false
   },
   "outputs": [
    {
     "name": "stdout",
     "output_type": "stream",
     "text": [
      "                            OLS Regression Results                            \n",
      "==============================================================================\n",
      "Dep. Variable:                 RET-rf   R-squared:                       0.146\n",
      "Model:                            OLS   Adj. R-squared:                  0.144\n",
      "Method:                 Least Squares   F-statistic:                     108.9\n",
      "Date:                Tue, 05 May 2020   Prob (F-statistic):           1.21e-23\n",
      "Time:                        11:52:42   Log-Likelihood:                 995.45\n",
      "No. Observations:                 641   AIC:                            -1987.\n",
      "Df Residuals:                     639   BIC:                            -1978.\n",
      "Df Model:                           1                                         \n",
      "Covariance Type:            nonrobust                                         \n",
      "==============================================================================\n",
      "                 coef    std err          t      P>|t|      [0.025      0.975]\n",
      "------------------------------------------------------------------------------\n",
      "const         -0.0553      0.002    -27.122      0.000      -0.059      -0.051\n",
      "rm_rf          0.4772      0.046     10.435      0.000       0.387       0.567\n",
      "==============================================================================\n",
      "Omnibus:                      220.806   Durbin-Watson:                   1.608\n",
      "Prob(Omnibus):                  0.000   Jarque-Bera (JB):             2966.627\n",
      "Skew:                          -1.139   Prob(JB):                         0.00\n",
      "Kurtosis:                      13.290   Cond. No.                         22.6\n",
      "==============================================================================\n",
      "\n",
      "Warnings:\n",
      "[1] Standard Errors assume that the covariance matrix of the errors is correctly specified.\n"
     ]
    }
   ],
   "source": [
    "Y=d_long_short_portfolio['RET-rf']\n",
    "X=d_long_short_portfolio['rm_rf']\n",
    "X_standard = sm.add_constant(X)\n",
    "model = sm.OLS(Y,X_standard)\n",
    "results = model.fit()\n",
    "print(results.summary())"
   ]
  },
  {
   "cell_type": "code",
   "execution_count": 140,
   "metadata": {},
   "outputs": [
    {
     "name": "stdout",
     "output_type": "stream",
     "text": [
      "-3.0768003587614277\n"
     ]
    }
   ],
   "source": [
    "sharpe_ratio = d_long_short_portfolio['RET'].mean() / d_long_short_portfolio['RET'].std()\n",
    "sharpe_ratio=sharpe_ratio*np.sqrt(12)\n",
    "print(sharpe_ratio)"
   ]
  },
  {
   "cell_type": "code",
   "execution_count": 141,
   "metadata": {},
   "outputs": [],
   "source": [
    "d = {'CAPM alpha': results.params[0], 'Sharpe Ratio': sharpe_ratio}"
   ]
  },
  {
   "cell_type": "code",
   "execution_count": 142,
   "metadata": {},
   "outputs": [],
   "source": [
    "d=pd.DataFrame.from_dict(d,orient='index').T"
   ]
  },
  {
   "cell_type": "code",
   "execution_count": 143,
   "metadata": {},
   "outputs": [],
   "source": [
    "d_sharpes=pd.concat([d_sharpes,d])"
   ]
  },
  {
   "cell_type": "code",
   "execution_count": 144,
   "metadata": {},
   "outputs": [],
   "source": [
    "new_col = ['1', '2', '3'] \n",
    "d_sharpes.insert(loc=0, column='Step', value=new_col)"
   ]
  },
  {
   "cell_type": "code",
   "execution_count": 145,
   "metadata": {},
   "outputs": [
    {
     "data": {
      "text/html": [
       "<div>\n",
       "<style scoped>\n",
       "    .dataframe tbody tr th:only-of-type {\n",
       "        vertical-align: middle;\n",
       "    }\n",
       "\n",
       "    .dataframe tbody tr th {\n",
       "        vertical-align: top;\n",
       "    }\n",
       "\n",
       "    .dataframe thead th {\n",
       "        text-align: right;\n",
       "    }\n",
       "</style>\n",
       "<table border=\"1\" class=\"dataframe\">\n",
       "  <thead>\n",
       "    <tr style=\"text-align: right;\">\n",
       "      <th></th>\n",
       "      <th>Step</th>\n",
       "      <th>CAPM alpha</th>\n",
       "      <th>Sharpe Ratio</th>\n",
       "    </tr>\n",
       "  </thead>\n",
       "  <tbody>\n",
       "    <tr>\n",
       "      <th>0</th>\n",
       "      <td>1</td>\n",
       "      <td>-0.039519</td>\n",
       "      <td>-1.445001</td>\n",
       "    </tr>\n",
       "    <tr>\n",
       "      <th>0</th>\n",
       "      <td>2</td>\n",
       "      <td>-0.033279</td>\n",
       "      <td>-1.152398</td>\n",
       "    </tr>\n",
       "    <tr>\n",
       "      <th>0</th>\n",
       "      <td>3</td>\n",
       "      <td>-0.055309</td>\n",
       "      <td>-3.076800</td>\n",
       "    </tr>\n",
       "  </tbody>\n",
       "</table>\n",
       "</div>"
      ],
      "text/plain": [
       "  Step  CAPM alpha  Sharpe Ratio\n",
       "0    1   -0.039519     -1.445001\n",
       "0    2   -0.033279     -1.152398\n",
       "0    3   -0.055309     -3.076800"
      ]
     },
     "execution_count": 145,
     "metadata": {},
     "output_type": "execute_result"
    }
   ],
   "source": [
    "d_sharpes"
   ]
  },
  {
   "cell_type": "code",
   "execution_count": 146,
   "metadata": {},
   "outputs": [],
   "source": [
    "p3_excess_return=np.mean(d_long_short_portfolio['RET-rf'])"
   ]
  },
  {
   "cell_type": "code",
   "execution_count": 147,
   "metadata": {},
   "outputs": [],
   "source": [
    "excess_returns=np.array([p1_excess_return,p2_excess_return,p3_excess_return])"
   ]
  },
  {
   "cell_type": "code",
   "execution_count": 148,
   "metadata": {},
   "outputs": [],
   "source": [
    "d_sharpes['Excess Return']=excess_returns"
   ]
  },
  {
   "cell_type": "code",
   "execution_count": 149,
   "metadata": {},
   "outputs": [
    {
     "data": {
      "text/html": [
       "<div>\n",
       "<style scoped>\n",
       "    .dataframe tbody tr th:only-of-type {\n",
       "        vertical-align: middle;\n",
       "    }\n",
       "\n",
       "    .dataframe tbody tr th {\n",
       "        vertical-align: top;\n",
       "    }\n",
       "\n",
       "    .dataframe thead th {\n",
       "        text-align: right;\n",
       "    }\n",
       "</style>\n",
       "<table border=\"1\" class=\"dataframe\">\n",
       "  <thead>\n",
       "    <tr style=\"text-align: right;\">\n",
       "      <th></th>\n",
       "      <th>Step</th>\n",
       "      <th>CAPM alpha</th>\n",
       "      <th>Sharpe Ratio</th>\n",
       "      <th>Excess Return</th>\n",
       "    </tr>\n",
       "  </thead>\n",
       "  <tbody>\n",
       "    <tr>\n",
       "      <th>0</th>\n",
       "      <td>1</td>\n",
       "      <td>-0.039519</td>\n",
       "      <td>-1.445001</td>\n",
       "      <td>-0.035481</td>\n",
       "    </tr>\n",
       "    <tr>\n",
       "      <th>0</th>\n",
       "      <td>2</td>\n",
       "      <td>-0.033279</td>\n",
       "      <td>-1.152398</td>\n",
       "      <td>-0.029894</td>\n",
       "    </tr>\n",
       "    <tr>\n",
       "      <th>0</th>\n",
       "      <td>3</td>\n",
       "      <td>-0.055309</td>\n",
       "      <td>-3.076800</td>\n",
       "      <td>-0.052860</td>\n",
       "    </tr>\n",
       "  </tbody>\n",
       "</table>\n",
       "</div>"
      ],
      "text/plain": [
       "  Step  CAPM alpha  Sharpe Ratio  Excess Return\n",
       "0    1   -0.039519     -1.445001      -0.035481\n",
       "0    2   -0.033279     -1.152398      -0.029894\n",
       "0    3   -0.055309     -3.076800      -0.052860"
      ]
     },
     "execution_count": 149,
     "metadata": {},
     "output_type": "execute_result"
    }
   ],
   "source": [
    "d_sharpes"
   ]
  },
  {
   "cell_type": "markdown",
   "metadata": {},
   "source": [
    "● Comparing first the strategy that goes long P1/short P10(step 2) and the strategy where the investor perceives probability correctly(step 3), we see that the CAPM alphas are almost the same(-0.0395 vs -0.0332), and as they are both negative, this tells us that both portfolios underperformed the market.\n",
    "\n",
    "● Now comparing the strategy that goes long P1/short P10(question 2) and the strategy where the investor’s preferences only exhibit loss aversion(step 4), the CAPM alphas differ by 0.02, as for the latter strategy the CAPM alpha is -0.0553, which is worse than the CAPM alpha of the former strategy. Furthermore, the Sharpe ratio is twice as bad (-3.07 vs -1.44) for the loss aversion strategy."
   ]
  },
  {
   "cell_type": "code",
   "execution_count": null,
   "metadata": {},
   "outputs": [],
   "source": []
  }
 ],
 "metadata": {
  "kernelspec": {
   "display_name": "Python 3",
   "language": "python",
   "name": "python3"
  },
  "language_info": {
   "codemirror_mode": {
    "name": "ipython",
    "version": 3
   },
   "file_extension": ".py",
   "mimetype": "text/x-python",
   "name": "python",
   "nbconvert_exporter": "python",
   "pygments_lexer": "ipython3",
   "version": "3.6.5"
  }
 },
 "nbformat": 4,
 "nbformat_minor": 4
}
